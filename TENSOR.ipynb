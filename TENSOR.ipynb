{
  "nbformat": 4,
  "nbformat_minor": 0,
  "metadata": {
    "colab": {
      "provenance": [],
      "collapsed_sections": []
    },
    "kernelspec": {
      "name": "python3",
      "display_name": "Python 3"
    },
    "language_info": {
      "name": "python"
    }
  },
  "cells": [
    {
      "cell_type": "code",
      "execution_count": null,
      "metadata": {
        "id": "WzX-lcptOBh3"
      },
      "outputs": [],
      "source": [
        "import tensorflow as tf"
      ]
    },
    {
      "cell_type": "code",
      "source": [
        "tf.version"
      ],
      "metadata": {
        "id": "nk3n9sxzOtd7",
        "colab": {
          "base_uri": "https://localhost:8080/"
        },
        "outputId": "fc6b76a5-39cf-41ef-b64a-18b437e6ea82"
      },
      "execution_count": null,
      "outputs": [
        {
          "output_type": "execute_result",
          "data": {
            "text/plain": [
              "<module 'tensorflow._api.v2.version' from '/usr/local/lib/python3.7/dist-packages/tensorflow/_api/v2/version/__init__.py'>"
            ]
          },
          "metadata": {},
          "execution_count": 37
        }
      ]
    },
    {
      "cell_type": "code",
      "source": [
        "g=tf.constant('Hello World')"
      ],
      "metadata": {
        "id": "1so74iRlO7Fl"
      },
      "execution_count": null,
      "outputs": []
    },
    {
      "cell_type": "code",
      "source": [
        "print(g)"
      ],
      "metadata": {
        "id": "Wzhn_HRLPwkE",
        "colab": {
          "base_uri": "https://localhost:8080/"
        },
        "outputId": "4c1170f3-1a00-457f-de55-d36e7a201a4e"
      },
      "execution_count": null,
      "outputs": [
        {
          "output_type": "stream",
          "name": "stdout",
          "text": [
            "tf.Tensor(b'Hello World', shape=(), dtype=string)\n"
          ]
        }
      ]
    },
    {
      "cell_type": "code",
      "source": [
        "h=tf.constant('Hello World',shape=[6,2],name='i')"
      ],
      "metadata": {
        "id": "FfNu3yAnPzFC"
      },
      "execution_count": null,
      "outputs": []
    },
    {
      "cell_type": "code",
      "source": [
        "print(h)"
      ],
      "metadata": {
        "id": "_q7CR6YURVqt",
        "colab": {
          "base_uri": "https://localhost:8080/"
        },
        "outputId": "2143198b-83a6-447e-b6db-d8157c5c90ce"
      },
      "execution_count": null,
      "outputs": [
        {
          "output_type": "stream",
          "name": "stdout",
          "text": [
            "tf.Tensor(\n",
            "[[b'Hello World' b'Hello World']\n",
            " [b'Hello World' b'Hello World']\n",
            " [b'Hello World' b'Hello World']\n",
            " [b'Hello World' b'Hello World']\n",
            " [b'Hello World' b'Hello World']\n",
            " [b'Hello World' b'Hello World']], shape=(6, 2), dtype=string)\n"
          ]
        }
      ]
    },
    {
      "cell_type": "code",
      "source": [
        "a=tf.constant(1.2,name='x',shape=[6,2])\n",
        "print(a)"
      ],
      "metadata": {
        "id": "XbfhIA4fRW_p",
        "colab": {
          "base_uri": "https://localhost:8080/"
        },
        "outputId": "7b9d0196-c666-4c95-a653-f3e12cdf562b"
      },
      "execution_count": null,
      "outputs": [
        {
          "output_type": "stream",
          "name": "stdout",
          "text": [
            "tf.Tensor(\n",
            "[[1.2 1.2]\n",
            " [1.2 1.2]\n",
            " [1.2 1.2]\n",
            " [1.2 1.2]\n",
            " [1.2 1.2]\n",
            " [1.2 1.2]], shape=(6, 2), dtype=float32)\n"
          ]
        }
      ]
    },
    {
      "cell_type": "code",
      "source": [
        "b=tf.constant(2.4,name='y',shape=[6,2])\n",
        "print(b)"
      ],
      "metadata": {
        "id": "_RihYUpcVj86",
        "colab": {
          "base_uri": "https://localhost:8080/"
        },
        "outputId": "53c2ba27-96c0-4ab8-a35b-5be4cf2cb96c"
      },
      "execution_count": null,
      "outputs": [
        {
          "output_type": "stream",
          "name": "stdout",
          "text": [
            "tf.Tensor(\n",
            "[[2.4 2.4]\n",
            " [2.4 2.4]\n",
            " [2.4 2.4]\n",
            " [2.4 2.4]\n",
            " [2.4 2.4]\n",
            " [2.4 2.4]], shape=(6, 2), dtype=float32)\n"
          ]
        }
      ]
    },
    {
      "cell_type": "code",
      "source": [
        "c=tf.add(a,b,name='Final')"
      ],
      "metadata": {
        "id": "vI7JaxVsVtds"
      },
      "execution_count": null,
      "outputs": []
    },
    {
      "cell_type": "code",
      "source": [
        "import tensorflow as tf"
      ],
      "metadata": {
        "id": "f2cKpvNnnlfw"
      },
      "execution_count": null,
      "outputs": []
    },
    {
      "cell_type": "code",
      "source": [
        "mnist = tf.keras.datasets.mnist"
      ],
      "metadata": {
        "id": "A6IksPVdnobY"
      },
      "execution_count": null,
      "outputs": []
    },
    {
      "cell_type": "code",
      "source": [
        "mnist = tf.keras.datasets.mnist"
      ],
      "metadata": {
        "id": "JXTRyGANpvNR"
      },
      "execution_count": null,
      "outputs": []
    },
    {
      "cell_type": "code",
      "source": [
        "(xtrain,ytrain) , (xtest,ytest) = mnist.load_data()"
      ],
      "metadata": {
        "id": "MNBLcYXxpzTW"
      },
      "execution_count": null,
      "outputs": []
    },
    {
      "cell_type": "code",
      "source": [
        "xtrain , xtest = xtrain/255 , xtest/255"
      ],
      "metadata": {
        "id": "khdqxYSDqG2l"
      },
      "execution_count": null,
      "outputs": []
    },
    {
      "cell_type": "code",
      "source": [
        "model = tf.keras.models.Sequential([\n",
        "    tf.keras.layers.Flatten(input_shape=(28,28)),\n",
        "    tf.keras.layers.Dense(128,activation='relu'),\n",
        "    tf.keras.layers.Dropout(0.2),\n",
        "    tf.keras.layers.Dense(10)\n",
        "])"
      ],
      "metadata": {
        "id": "gF5EQZuit7DL"
      },
      "execution_count": null,
      "outputs": []
    },
    {
      "cell_type": "code",
      "source": [
        "predictions=model(xtrain[:1]).numpy()\n",
        "predictions"
      ],
      "metadata": {
        "colab": {
          "base_uri": "https://localhost:8080/"
        },
        "id": "ecqnWuclvMCk",
        "outputId": "c9f2beb9-3511-4bea-e973-dcbd54dd7c22"
      },
      "execution_count": null,
      "outputs": [
        {
          "output_type": "execute_result",
          "data": {
            "text/plain": [
              "array([[-1.2560164e-03, -7.2826142e-04,  1.0781952e-03, -8.1715646e-04,\n",
              "        -2.7584331e-03, -2.5141012e-04,  3.0853050e-03,  9.9122990e-06,\n",
              "        -1.3245022e-03,  2.5570681e-03]], dtype=float32)"
            ]
          },
          "metadata": {},
          "execution_count": 56
        }
      ]
    },
    {
      "cell_type": "code",
      "source": [
        "tf.nn.softmax(predictions).numpy()"
      ],
      "metadata": {
        "colab": {
          "base_uri": "https://localhost:8080/"
        },
        "id": "NwCd-fWlv6Jj",
        "outputId": "6de1104b-14d1-4621-d972-30a6f5b35b0a"
      },
      "execution_count": null,
      "outputs": [
        {
          "output_type": "execute_result",
          "data": {
            "text/plain": [
              "array([[0.09987837, 0.09993111, 0.10011178, 0.09992222, 0.09972844,\n",
              "        0.09997876, 0.10031293, 0.1000049 , 0.09987153, 0.10025994]],\n",
              "      dtype=float32)"
            ]
          },
          "metadata": {},
          "execution_count": 57
        }
      ]
    },
    {
      "cell_type": "code",
      "source": [
        "fn = tf.keras.losses.SparseCategoricalCrossentropy(from_logits=True)"
      ],
      "metadata": {
        "id": "YwaYjwcrwkCZ"
      },
      "execution_count": null,
      "outputs": []
    },
    {
      "cell_type": "code",
      "source": [
        "fn(ytrain[:1],predictions).numpy()"
      ],
      "metadata": {
        "colab": {
          "base_uri": "https://localhost:8080/"
        },
        "id": "NAIvEtEUxZwU",
        "outputId": "a647400f-a757-4ee6-e078-6b8b1240ffb2"
      },
      "execution_count": null,
      "outputs": [
        {
          "output_type": "execute_result",
          "data": {
            "text/plain": [
              "2.3027973"
            ]
          },
          "metadata": {},
          "execution_count": 64
        }
      ]
    },
    {
      "cell_type": "code",
      "source": [
        "model.compile(optimizer='adam',\n",
        "              loss=fn,\n",
        "              metrics=['accuracy'])"
      ],
      "metadata": {
        "id": "Phdj1PhAx8ZZ"
      },
      "execution_count": null,
      "outputs": []
    },
    {
      "cell_type": "code",
      "source": [
        "model.fit(xtrain,ytrain,epochs=5)"
      ],
      "metadata": {
        "colab": {
          "base_uri": "https://localhost:8080/"
        },
        "id": "Q7n_hPyWyKkr",
        "outputId": "a855fd36-e3b3-415e-9577-2f9f76499401"
      },
      "execution_count": null,
      "outputs": [
        {
          "output_type": "stream",
          "name": "stdout",
          "text": [
            "Epoch 1/5\n",
            "1875/1875 [==============================] - 5s 2ms/step - loss: 1.2737 - accuracy: 0.6757\n",
            "Epoch 2/5\n",
            "1875/1875 [==============================] - 4s 2ms/step - loss: 0.5788 - accuracy: 0.8397\n",
            "Epoch 3/5\n",
            "1875/1875 [==============================] - 4s 2ms/step - loss: 0.4524 - accuracy: 0.8714\n",
            "Epoch 4/5\n",
            "1875/1875 [==============================] - 4s 2ms/step - loss: 0.3967 - accuracy: 0.8861\n",
            "Epoch 5/5\n",
            "1875/1875 [==============================] - 4s 2ms/step - loss: 0.3640 - accuracy: 0.8945\n"
          ]
        },
        {
          "output_type": "execute_result",
          "data": {
            "text/plain": [
              "<keras.callbacks.History at 0x7fa8ca199f10>"
            ]
          },
          "metadata": {},
          "execution_count": 66
        }
      ]
    },
    {
      "cell_type": "code",
      "source": [
        "model.evaluate(xtest,ytest,verbose=5)"
      ],
      "metadata": {
        "colab": {
          "base_uri": "https://localhost:8080/"
        },
        "id": "YGtW98j0DMjX",
        "outputId": "93308a19-b995-4b54-e7eb-8c7d18f7acca"
      },
      "execution_count": null,
      "outputs": [
        {
          "output_type": "execute_result",
          "data": {
            "text/plain": [
              "[0.3039768934249878, 0.9154000282287598]"
            ]
          },
          "metadata": {},
          "execution_count": 68
        }
      ]
    },
    {
      "cell_type": "code",
      "source": [
        "import tensorflow as tf"
      ],
      "metadata": {
        "id": "C-piWJaWDedv"
      },
      "execution_count": null,
      "outputs": []
    },
    {
      "cell_type": "code",
      "source": [
        "mnist = tf.keras.datasets.mnist"
      ],
      "metadata": {
        "id": "WupUK0mgFZvb"
      },
      "execution_count": null,
      "outputs": []
    },
    {
      "cell_type": "code",
      "source": [
        "(xtrain,ytrain),(xtest,ytest) = mnist.load_data()"
      ],
      "metadata": {
        "id": "DymNTcMBFmsD"
      },
      "execution_count": null,
      "outputs": []
    },
    {
      "cell_type": "code",
      "source": [
        "xtrain , xtest = xtrain/255 , xtest/255"
      ],
      "metadata": {
        "id": "mq78VpNKGKmR"
      },
      "execution_count": null,
      "outputs": []
    },
    {
      "cell_type": "code",
      "source": [
        "model = tf.keras.models.Sequential([\n",
        "    tf.keras.layers.Flatten(input_shape=(28,28)),\n",
        "    tf.keras.layers.Dense(128,activation='relu'),\n",
        "    tf.keras.layers.Dense(10),\n",
        "    tf.keras.layers.Dropout(0.2)\n",
        "])"
      ],
      "metadata": {
        "id": "1unXSVS5GPvx"
      },
      "execution_count": null,
      "outputs": []
    },
    {
      "cell_type": "code",
      "source": [
        "predictions=model(xtrain[:1]).numpy()"
      ],
      "metadata": {
        "id": "iEHufCXnHMRo"
      },
      "execution_count": null,
      "outputs": []
    },
    {
      "cell_type": "code",
      "source": [
        "predictions"
      ],
      "metadata": {
        "colab": {
          "base_uri": "https://localhost:8080/"
        },
        "id": "a2-wgTb2HmL4",
        "outputId": "0b5cb076-ebf4-4b12-9681-44bfa8c661ed"
      },
      "execution_count": null,
      "outputs": [
        {
          "output_type": "execute_result",
          "data": {
            "text/plain": [
              "array([[-0.24841376, -0.23849885,  0.03621191, -0.6148237 , -0.5506097 ,\n",
              "         0.45972002, -0.15240765,  0.19766784, -0.27330127,  0.10777634]],\n",
              "      dtype=float32)"
            ]
          },
          "metadata": {},
          "execution_count": 78
        }
      ]
    },
    {
      "cell_type": "code",
      "source": [
        "fn=tf.keras.losses.SparseCategoricalCrossentropy(from_logits=True)"
      ],
      "metadata": {
        "id": "wpIZBSG3HqFf"
      },
      "execution_count": null,
      "outputs": []
    },
    {
      "cell_type": "code",
      "source": [
        "fn(ytrain[:1],predictions).numpy()"
      ],
      "metadata": {
        "colab": {
          "base_uri": "https://localhost:8080/"
        },
        "id": "YW9PNQ6QHwH_",
        "outputId": "a618d22e-c085-4ad9-da19-907aa6cced00"
      },
      "execution_count": null,
      "outputs": [
        {
          "output_type": "execute_result",
          "data": {
            "text/plain": [
              "1.7657189"
            ]
          },
          "metadata": {},
          "execution_count": 81
        }
      ]
    },
    {
      "cell_type": "code",
      "source": [
        "tf.nn.softmax(predictions).numpy()"
      ],
      "metadata": {
        "colab": {
          "base_uri": "https://localhost:8080/"
        },
        "id": "E6BwlNhqH-Vz",
        "outputId": "b6954cb1-84cd-47a8-94fb-3feffc3cf538"
      },
      "execution_count": null,
      "outputs": [
        {
          "output_type": "execute_result",
          "data": {
            "text/plain": [
              "array([[0.0842596 , 0.08509918, 0.11200329, 0.05841032, 0.06228413,\n",
              "        0.17106375, 0.09275009, 0.13162857, 0.08218848, 0.12031253]],\n",
              "      dtype=float32)"
            ]
          },
          "metadata": {},
          "execution_count": 82
        }
      ]
    },
    {
      "cell_type": "code",
      "source": [
        "model.compile(optimizer='adam',\n",
        "              loss=fn,\n",
        "              metrics=['accuracy'])"
      ],
      "metadata": {
        "id": "IEIQrYN6IDW-"
      },
      "execution_count": null,
      "outputs": []
    },
    {
      "cell_type": "code",
      "source": [
        "model.fit(xtrain,ytrain,epochs=5)"
      ],
      "metadata": {
        "colab": {
          "base_uri": "https://localhost:8080/"
        },
        "id": "tzn85sF8ISPl",
        "outputId": "3c7c62d7-c96f-4b0d-8d2d-d1bc2099e534"
      },
      "execution_count": null,
      "outputs": [
        {
          "output_type": "stream",
          "name": "stdout",
          "text": [
            "Epoch 1/5\n",
            "1875/1875 [==============================] - 5s 2ms/step - loss: 0.4958 - accuracy: 0.8126\n",
            "Epoch 2/5\n",
            "1875/1875 [==============================] - 5s 2ms/step - loss: 0.3378 - accuracy: 0.8552\n",
            "Epoch 3/5\n",
            "1875/1875 [==============================] - 5s 3ms/step - loss: 0.2986 - accuracy: 0.8643\n",
            "Epoch 4/5\n",
            "1875/1875 [==============================] - 5s 3ms/step - loss: 0.2777 - accuracy: 0.8672\n",
            "Epoch 5/5\n",
            "1875/1875 [==============================] - 5s 3ms/step - loss: 0.2583 - accuracy: 0.8750\n"
          ]
        },
        {
          "output_type": "execute_result",
          "data": {
            "text/plain": [
              "<keras.callbacks.History at 0x7fa8ca199f50>"
            ]
          },
          "metadata": {},
          "execution_count": 88
        }
      ]
    },
    {
      "cell_type": "code",
      "source": [
        "model.evaluate(xtest,ytest,verbose=5)"
      ],
      "metadata": {
        "colab": {
          "base_uri": "https://localhost:8080/"
        },
        "id": "3H7ieqreIoG1",
        "outputId": "836ef61b-0231-4faa-e52b-6c5fe708a6d3"
      },
      "execution_count": null,
      "outputs": [
        {
          "output_type": "execute_result",
          "data": {
            "text/plain": [
              "[0.07936038076877594, 0.9754999876022339]"
            ]
          },
          "metadata": {},
          "execution_count": 89
        }
      ]
    },
    {
      "cell_type": "code",
      "source": [
        "import tensorflow as tf"
      ],
      "metadata": {
        "id": "4cH3I-s4Iu0d"
      },
      "execution_count": null,
      "outputs": []
    },
    {
      "cell_type": "code",
      "source": [
        "mnist = tf.keras.datasets.mnist"
      ],
      "metadata": {
        "id": "8PAFuj8KtFFX"
      },
      "execution_count": null,
      "outputs": []
    },
    {
      "cell_type": "code",
      "source": [
        "(xtrain,ytrain),(xtest,ytest) = mnist.load_data()"
      ],
      "metadata": {
        "colab": {
          "base_uri": "https://localhost:8080/"
        },
        "id": "5QFU8Dp-tQet",
        "outputId": "95bc2b34-9ef6-42d1-d55d-d2952ec48312"
      },
      "execution_count": null,
      "outputs": [
        {
          "output_type": "stream",
          "name": "stdout",
          "text": [
            "Downloading data from https://storage.googleapis.com/tensorflow/tf-keras-datasets/mnist.npz\n",
            "11493376/11490434 [==============================] - 0s 0us/step\n",
            "11501568/11490434 [==============================] - 0s 0us/step\n"
          ]
        }
      ]
    },
    {
      "cell_type": "code",
      "source": [
        "xtrain,xtest= xtrain/255 , xtest/255"
      ],
      "metadata": {
        "id": "mVUJfcqFtZwJ"
      },
      "execution_count": null,
      "outputs": []
    },
    {
      "cell_type": "code",
      "source": [
        "model=tf.keras.models.Sequential([\n",
        "    tf.keras.layers.Flatten(input_shape = (28,28)),\n",
        "    tf.keras.layers.Dense(128,activation='relu'),\n",
        "    tf.keras.layers.Dropout(0.2),\n",
        "    tf.keras.layers.Dense(10)\n",
        "])"
      ],
      "metadata": {
        "id": "Z38OugFXtjZX"
      },
      "execution_count": null,
      "outputs": []
    },
    {
      "cell_type": "code",
      "source": [
        "prediction = model(xtrain[:1]).numpy()"
      ],
      "metadata": {
        "id": "GA-5wuBUuU_A"
      },
      "execution_count": null,
      "outputs": []
    },
    {
      "cell_type": "code",
      "source": [
        "prediction"
      ],
      "metadata": {
        "colab": {
          "base_uri": "https://localhost:8080/"
        },
        "id": "OnFtGCUcu2q6",
        "outputId": "e5e572bd-3f15-4146-c4ed-abdb1c102a9e"
      },
      "execution_count": null,
      "outputs": [
        {
          "output_type": "execute_result",
          "data": {
            "text/plain": [
              "array([[-0.11720841, -0.2997589 ,  0.42752773,  0.02881434,  0.24720174,\n",
              "         0.06376354, -0.02929918,  0.36845952, -0.17848626, -0.13654304]],\n",
              "      dtype=float32)"
            ]
          },
          "metadata": {},
          "execution_count": 11
        }
      ]
    },
    {
      "cell_type": "code",
      "source": [
        "n = tf.keras.losses.SparseCategoricalCrossentropy(from_logits=True)"
      ],
      "metadata": {
        "id": "XWa_FBdFu_ln"
      },
      "execution_count": null,
      "outputs": []
    },
    {
      "cell_type": "code",
      "source": [
        "n(ytrain[:1],prediction).numpy()"
      ],
      "metadata": {
        "colab": {
          "base_uri": "https://localhost:8080/"
        },
        "id": "1zyGunNrvMZL",
        "outputId": "97945b8f-130c-4269-e3e4-ad6c564e53e1"
      },
      "execution_count": null,
      "outputs": [
        {
          "output_type": "execute_result",
          "data": {
            "text/plain": [
              "2.303195"
            ]
          },
          "metadata": {},
          "execution_count": 13
        }
      ]
    },
    {
      "cell_type": "code",
      "source": [
        "tf.nn.softmax(prediction).numpy()"
      ],
      "metadata": {
        "colab": {
          "base_uri": "https://localhost:8080/"
        },
        "id": "lfEl6BabvZgJ",
        "outputId": "d7c99768-a69f-4062-e43a-d42758fc25bc"
      },
      "execution_count": null,
      "outputs": [
        {
          "output_type": "execute_result",
          "data": {
            "text/plain": [
              "array([[0.083395  , 0.06947993, 0.14378577, 0.09650657, 0.12006082,\n",
              "        0.09993903, 0.09105808, 0.13553858, 0.07843816, 0.08179808]],\n",
              "      dtype=float32)"
            ]
          },
          "metadata": {},
          "execution_count": 14
        }
      ]
    },
    {
      "cell_type": "code",
      "source": [
        "model.compile(optimizer='adam',\n",
        "              loss=n,\n",
        "              metrics=['accuracy'])"
      ],
      "metadata": {
        "id": "ay6m-l4Rvjcd"
      },
      "execution_count": null,
      "outputs": []
    },
    {
      "cell_type": "code",
      "source": [
        "model.fit(xtrain,ytrain,epochs=5)"
      ],
      "metadata": {
        "colab": {
          "base_uri": "https://localhost:8080/"
        },
        "id": "ImRcap9Tvygv",
        "outputId": "16c47360-30ff-4c1c-f7fc-8d13f3b6d9cc"
      },
      "execution_count": null,
      "outputs": [
        {
          "output_type": "stream",
          "name": "stdout",
          "text": [
            "Epoch 1/5\n",
            "1875/1875 [==============================] - 6s 2ms/step - loss: 0.2947 - accuracy: 0.9148\n",
            "Epoch 2/5\n",
            "1875/1875 [==============================] - 4s 2ms/step - loss: 0.1442 - accuracy: 0.9572\n",
            "Epoch 3/5\n",
            "1875/1875 [==============================] - 4s 2ms/step - loss: 0.1088 - accuracy: 0.9670\n",
            "Epoch 4/5\n",
            "1875/1875 [==============================] - 4s 2ms/step - loss: 0.0872 - accuracy: 0.9733\n",
            "Epoch 5/5\n",
            "1875/1875 [==============================] - 4s 2ms/step - loss: 0.0766 - accuracy: 0.9760\n"
          ]
        },
        {
          "output_type": "execute_result",
          "data": {
            "text/plain": [
              "<keras.callbacks.History at 0x7ff79f83d0d0>"
            ]
          },
          "metadata": {},
          "execution_count": 17
        }
      ]
    },
    {
      "cell_type": "code",
      "source": [
        "model.evaluate(xtest,ytest,verbose=5)"
      ],
      "metadata": {
        "colab": {
          "base_uri": "https://localhost:8080/"
        },
        "id": "oAYD8KUbv7yM",
        "outputId": "78fc8ac5-f84e-407f-a882-4aac17fa2add"
      },
      "execution_count": null,
      "outputs": [
        {
          "output_type": "execute_result",
          "data": {
            "text/plain": [
              "[0.07418370991945267, 0.9778000116348267]"
            ]
          },
          "metadata": {},
          "execution_count": 18
        }
      ]
    },
    {
      "cell_type": "code",
      "source": [
        "import tensorflow as tf\n",
        "mnist = tf.keras.datasets.mnist\n",
        "(xtrain,ytrain),(xtest,ytest)=mnist.load_data()\n",
        "xtrain , xtest = xtrain/255 , xtest/255 "
      ],
      "metadata": {
        "id": "5QxZvytmwI41"
      },
      "execution_count": null,
      "outputs": []
    },
    {
      "cell_type": "code",
      "source": [
        "model = tf.keras.models.Sequential([\n",
        "    tf.keras.layers.Flatten(input_shape=(28,28)),\n",
        "    tf.keras.layers.Dense(128,activation='relu'),\n",
        "    tf.keras.layers.Dense(10),\n",
        "    tf.keras.layers.Dropout(0.2)\n",
        "])"
      ],
      "metadata": {
        "id": "FBIeHqd5wlty"
      },
      "execution_count": null,
      "outputs": []
    },
    {
      "cell_type": "code",
      "source": [
        "predictions=model(xtrain[:1]).numpy()"
      ],
      "metadata": {
        "id": "LFrZssY4xOll"
      },
      "execution_count": null,
      "outputs": []
    },
    {
      "cell_type": "code",
      "source": [
        "predictions"
      ],
      "metadata": {
        "colab": {
          "base_uri": "https://localhost:8080/"
        },
        "id": "oR4-q22GxX0t",
        "outputId": "efbbaece-c66b-4388-ad89-16fa447c7dcd"
      },
      "execution_count": null,
      "outputs": [
        {
          "output_type": "execute_result",
          "data": {
            "text/plain": [
              "array([[-0.04882553,  0.2728452 ,  0.1856116 , -0.21216917, -0.9070099 ,\n",
              "        -0.9856477 ,  0.5692123 , -0.49757484,  0.19513081,  0.4384752 ]],\n",
              "      dtype=float32)"
            ]
          },
          "metadata": {},
          "execution_count": 22
        }
      ]
    },
    {
      "cell_type": "code",
      "source": [
        "n = tf.keras.losses.SparseCategoricalCrossentropy(from_logits=True)"
      ],
      "metadata": {
        "id": "DQWgsXJuxY9_"
      },
      "execution_count": null,
      "outputs": []
    },
    {
      "cell_type": "code",
      "source": [
        "n(ytrain[:1],predictions).numpy()"
      ],
      "metadata": {
        "colab": {
          "base_uri": "https://localhost:8080/"
        },
        "id": "tKPUxPXLxjIM",
        "outputId": "0f1c1d59-e1e8-4841-9840-b02ea748e1c9"
      },
      "execution_count": null,
      "outputs": [
        {
          "output_type": "execute_result",
          "data": {
            "text/plain": [
              "3.3076866"
            ]
          },
          "metadata": {},
          "execution_count": 24
        }
      ]
    },
    {
      "cell_type": "code",
      "source": [
        "tf.nn.softmax(predictions).numpy()"
      ],
      "metadata": {
        "colab": {
          "base_uri": "https://localhost:8080/"
        },
        "id": "OP_3SdZNxoCt",
        "outputId": "0b4371ef-234a-4eb9-b5b2-97f845a2be3a"
      },
      "execution_count": null,
      "outputs": [
        {
          "output_type": "execute_result",
          "data": {
            "text/plain": [
              "array([[0.09339995, 0.12883875, 0.11807594, 0.07932451, 0.03959514,\n",
              "        0.03660075, 0.17328344, 0.05962897, 0.11920529, 0.15204729]],\n",
              "      dtype=float32)"
            ]
          },
          "metadata": {},
          "execution_count": 26
        }
      ]
    },
    {
      "cell_type": "code",
      "source": [
        "model.compile(optimizer='adam',\n",
        "              loss=n,\n",
        "              metrics=['accuracy'])"
      ],
      "metadata": {
        "id": "359On6Z_xy2P"
      },
      "execution_count": null,
      "outputs": []
    },
    {
      "cell_type": "code",
      "source": [
        "model.fit(xtrain,ytrain,epochs=5)"
      ],
      "metadata": {
        "colab": {
          "base_uri": "https://localhost:8080/"
        },
        "id": "_zRTB33sx-3l",
        "outputId": "0681fd6d-c458-4054-9ce9-25a01af98ef9"
      },
      "execution_count": null,
      "outputs": [
        {
          "output_type": "stream",
          "name": "stdout",
          "text": [
            "Epoch 1/5\n",
            "1875/1875 [==============================] - 5s 2ms/step - loss: 0.5035 - accuracy: 0.8139\n",
            "Epoch 2/5\n",
            "1875/1875 [==============================] - 4s 2ms/step - loss: 0.3433 - accuracy: 0.8539\n",
            "Epoch 3/5\n",
            "1875/1875 [==============================] - 4s 2ms/step - loss: 0.2996 - accuracy: 0.8629\n",
            "Epoch 4/5\n",
            "1875/1875 [==============================] - 4s 2ms/step - loss: 0.2767 - accuracy: 0.8690\n",
            "Epoch 5/5\n",
            "1875/1875 [==============================] - 6s 3ms/step - loss: 0.2611 - accuracy: 0.8711\n"
          ]
        },
        {
          "output_type": "execute_result",
          "data": {
            "text/plain": [
              "<keras.callbacks.History at 0x7ff79e65a9d0>"
            ]
          },
          "metadata": {},
          "execution_count": 28
        }
      ]
    },
    {
      "cell_type": "code",
      "source": [
        "model.evaluate(xtest,ytest,verbose=5)"
      ],
      "metadata": {
        "colab": {
          "base_uri": "https://localhost:8080/"
        },
        "id": "KezAHZRHyEO9",
        "outputId": "e898c015-e320-4740-d3c5-668409cdda5e"
      },
      "execution_count": null,
      "outputs": [
        {
          "output_type": "execute_result",
          "data": {
            "text/plain": [
              "[0.07465793937444687, 0.9767000079154968]"
            ]
          },
          "metadata": {},
          "execution_count": 29
        }
      ]
    },
    {
      "cell_type": "code",
      "source": [
        "import matplotlib.pyplot as plt\n"
      ],
      "metadata": {
        "id": "AneEmM2RyNu9"
      },
      "execution_count": null,
      "outputs": []
    },
    {
      "cell_type": "code",
      "source": [
        "import matplotlib.image as npimg"
      ],
      "metadata": {
        "id": "FkxZ42qG4buz"
      },
      "execution_count": null,
      "outputs": []
    },
    {
      "cell_type": "code",
      "source": [
        "import tensorflow as tf\n"
      ],
      "metadata": {
        "id": "LD-coT754g8a"
      },
      "execution_count": null,
      "outputs": []
    },
    {
      "cell_type": "code",
      "source": [
        "from tensorflow.keras.models import Sequential"
      ],
      "metadata": {
        "id": "b40GT3P34jpk"
      },
      "execution_count": null,
      "outputs": []
    },
    {
      "cell_type": "code",
      "source": [
        "import tensorflow.keras.backend as k"
      ],
      "metadata": {
        "id": "Zs8wB9Hh4tfQ"
      },
      "execution_count": null,
      "outputs": []
    },
    {
      "cell_type": "code",
      "source": [
        "import tensorflow.keras.layers as MaxPooling2D"
      ],
      "metadata": {
        "id": "HWGLKHiu6_hz"
      },
      "execution_count": null,
      "outputs": []
    },
    {
      "cell_type": "code",
      "source": [
        "import tensorflow as tf"
      ],
      "metadata": {
        "id": "EmyKz8v6GwH4"
      },
      "execution_count": null,
      "outputs": []
    },
    {
      "cell_type": "code",
      "source": [
        "mnist=tf.keras.datasets.mnist"
      ],
      "metadata": {
        "id": "8IXsbCtqZpdN"
      },
      "execution_count": null,
      "outputs": []
    },
    {
      "cell_type": "code",
      "source": [
        "(xtrain,ytrain),(xtest,ytest) = mnist.load_data()"
      ],
      "metadata": {
        "colab": {
          "base_uri": "https://localhost:8080/"
        },
        "id": "jEJ-zbYwZw8R",
        "outputId": "a41258cb-1b1a-404a-bcc9-1cbc5dd1fa65"
      },
      "execution_count": null,
      "outputs": [
        {
          "output_type": "stream",
          "name": "stdout",
          "text": [
            "Downloading data from https://storage.googleapis.com/tensorflow/tf-keras-datasets/mnist.npz\n",
            "11490434/11490434 [==============================] - 0s 0us/step\n"
          ]
        }
      ]
    },
    {
      "cell_type": "code",
      "source": [
        "xtrain,xtest = xtrain/255,xtest/255"
      ],
      "metadata": {
        "id": "8dHMYUlyZ7gk"
      },
      "execution_count": null,
      "outputs": []
    },
    {
      "cell_type": "code",
      "source": [
        "model=tf.keras.models.Sequential([\n",
        "    tf.keras.layers.Flatten(input_shape=(28,28)),\n",
        "    tf.keras.layers.Dense(128,activation='relu'),\n",
        "    tf.keras.layers.Dropout(0.2),\n",
        "    tf.keras.layers.Dense(10)\n",
        "])"
      ],
      "metadata": {
        "id": "Nk1AQj2AaJvf"
      },
      "execution_count": null,
      "outputs": []
    },
    {
      "cell_type": "code",
      "source": [
        "import numpy "
      ],
      "metadata": {
        "id": "nAJGWloKbC-3"
      },
      "execution_count": null,
      "outputs": []
    },
    {
      "cell_type": "code",
      "source": [
        "predictions=model(xtrain[:1]).numpy()"
      ],
      "metadata": {
        "id": "802Oe5O1bi1f"
      },
      "execution_count": null,
      "outputs": []
    },
    {
      "cell_type": "code",
      "source": [
        "predictions"
      ],
      "metadata": {
        "colab": {
          "base_uri": "https://localhost:8080/"
        },
        "id": "-3DKCUdmbvtf",
        "outputId": "30a616e1-317c-49d9-c16b-9fa9b1b584f5"
      },
      "execution_count": null,
      "outputs": [
        {
          "output_type": "execute_result",
          "data": {
            "text/plain": [
              "array([[ 0.42059827,  0.76974463,  0.02893002,  1.1675955 , -0.27863467,\n",
              "         0.29293054, -0.5536439 ,  0.01643193,  0.5513075 ,  0.06048651]],\n",
              "      dtype=float32)"
            ]
          },
          "metadata": {},
          "execution_count": 12
        }
      ]
    },
    {
      "cell_type": "code",
      "source": [
        "fn=tf.keras.losses.SparseCategoricalCrossentropy(from_logits=True)"
      ],
      "metadata": {
        "id": "gTiQshRTcBk_"
      },
      "execution_count": null,
      "outputs": []
    },
    {
      "cell_type": "code",
      "source": [
        "fn(ytrain[:1],predictions).numpy()"
      ],
      "metadata": {
        "colab": {
          "base_uri": "https://localhost:8080/"
        },
        "id": "LKMN5LTZcKNC",
        "outputId": "c87a5a72-40e1-40c7-ce4c-4be56e925ae4"
      },
      "execution_count": null,
      "outputs": [
        {
          "output_type": "execute_result",
          "data": {
            "text/plain": [
              "2.3751414"
            ]
          },
          "metadata": {},
          "execution_count": 15
        }
      ]
    },
    {
      "cell_type": "code",
      "source": [
        "tf.nn.softmax(predictions).numpy()"
      ],
      "metadata": {
        "colab": {
          "base_uri": "https://localhost:8080/"
        },
        "id": "kiyi7xdacSDv",
        "outputId": "c7bd830d-10d2-4992-969a-017047737e1e"
      },
      "execution_count": null,
      "outputs": [
        {
          "output_type": "execute_result",
          "data": {
            "text/plain": [
              "array([[0.10566584, 0.14981902, 0.07142253, 0.22302388, 0.05251237,\n",
              "        0.09300134, 0.03988656, 0.07053544, 0.12042063, 0.07371232]],\n",
              "      dtype=float32)"
            ]
          },
          "metadata": {},
          "execution_count": 16
        }
      ]
    },
    {
      "cell_type": "code",
      "source": [
        "model.compile(optimizer = 'adam',\n",
        "               loss=fn,\n",
        "               metrics='accuracy')"
      ],
      "metadata": {
        "id": "MhA1cv4Zcl42"
      },
      "execution_count": null,
      "outputs": []
    },
    {
      "cell_type": "code",
      "source": [
        "model.fit(xtrain,ytrain,epochs=5)"
      ],
      "metadata": {
        "colab": {
          "base_uri": "https://localhost:8080/"
        },
        "id": "B4P-QHLfc-UI",
        "outputId": "e38c3c5c-f8e3-4552-b74a-7c469e0f1074"
      },
      "execution_count": null,
      "outputs": [
        {
          "output_type": "stream",
          "name": "stdout",
          "text": [
            "Epoch 1/5\n",
            "1875/1875 [==============================] - 5s 2ms/step - loss: 0.2973 - accuracy: 0.9141\n",
            "Epoch 2/5\n",
            "1875/1875 [==============================] - 5s 2ms/step - loss: 0.1439 - accuracy: 0.9571\n",
            "Epoch 3/5\n",
            "1875/1875 [==============================] - 5s 2ms/step - loss: 0.1096 - accuracy: 0.9665\n",
            "Epoch 4/5\n",
            "1875/1875 [==============================] - 5s 3ms/step - loss: 0.0885 - accuracy: 0.9725\n",
            "Epoch 5/5\n",
            "1875/1875 [==============================] - 5s 3ms/step - loss: 0.0779 - accuracy: 0.9760\n"
          ]
        },
        {
          "output_type": "execute_result",
          "data": {
            "text/plain": [
              "<keras.callbacks.History at 0x7ff5a65cc310>"
            ]
          },
          "metadata": {},
          "execution_count": 19
        }
      ]
    },
    {
      "cell_type": "code",
      "source": [
        "model.evaluate(xtest,ytest,verbose=5)"
      ],
      "metadata": {
        "colab": {
          "base_uri": "https://localhost:8080/"
        },
        "id": "DdCl_4m7dF-0",
        "outputId": "d2dcace9-b704-49ed-f262-d86570ebff6e"
      },
      "execution_count": null,
      "outputs": [
        {
          "output_type": "execute_result",
          "data": {
            "text/plain": [
              "[0.0776669830083847, 0.9771000146865845]"
            ]
          },
          "metadata": {},
          "execution_count": 20
        }
      ]
    },
    {
      "cell_type": "code",
      "source": [
        "from tensorflow.keras.preprocessing.image import ImageDataGenerator"
      ],
      "metadata": {
        "id": "v5bGGBx5dNG6"
      },
      "execution_count": null,
      "outputs": []
    },
    {
      "cell_type": "code",
      "source": [
        "import tensorflow.keras.backend as k"
      ],
      "metadata": {
        "id": "eZpIjYMwfkfH"
      },
      "execution_count": null,
      "outputs": []
    },
    {
      "cell_type": "code",
      "source": [
        "import tensorflow as tf\n",
        "import numpy as np"
      ],
      "metadata": {
        "id": "eZdmoL6rm4AM"
      },
      "execution_count": null,
      "outputs": []
    },
    {
      "cell_type": "code",
      "source": [
        "tf.compat.v1.enable_eager_execution(\n",
        "    config=None, device_policy=None, execution_mode=None\n",
        ")"
      ],
      "metadata": {
        "id": "0cofes0O-ySJ"
      },
      "execution_count": null,
      "outputs": []
    },
    {
      "cell_type": "code",
      "source": [
        "(xtrain,ytrain),(_,_) = tf.keras.datasets.boston_housing.load_data(test_split=0)"
      ],
      "metadata": {
        "id": "D6Zxi8In_Zz3"
      },
      "execution_count": null,
      "outputs": []
    },
    {
      "cell_type": "code",
      "source": [
        "xtrain=xtrain.astype('float32')"
      ],
      "metadata": {
        "id": "xVObsofQTCU7"
      },
      "execution_count": null,
      "outputs": []
    },
    {
      "cell_type": "code",
      "source": [
        "ytrain=ytrain.astype('float32')"
      ],
      "metadata": {
        "id": "poM-sYbSUfBi"
      },
      "execution_count": null,
      "outputs": []
    },
    {
      "cell_type": "code",
      "source": [
        "xtrain.shape"
      ],
      "metadata": {
        "colab": {
          "base_uri": "https://localhost:8080/"
        },
        "id": "Ht_NVZUfU1EA",
        "outputId": "98d1adca-d12b-4a2c-d979-e71e938cf289"
      },
      "execution_count": null,
      "outputs": [
        {
          "output_type": "execute_result",
          "data": {
            "text/plain": [
              "(506, 13)"
            ]
          },
          "metadata": {},
          "execution_count": 47
        }
      ]
    },
    {
      "cell_type": "code",
      "source": [
        "xtrain.dtype"
      ],
      "metadata": {
        "colab": {
          "base_uri": "https://localhost:8080/"
        },
        "id": "4b1HiYuGU4Zw",
        "outputId": "586fde55-c368-4d89-b62a-6b30e8b68306"
      },
      "execution_count": null,
      "outputs": [
        {
          "output_type": "execute_result",
          "data": {
            "text/plain": [
              "dtype('int32')"
            ]
          },
          "metadata": {},
          "execution_count": 48
        }
      ]
    },
    {
      "cell_type": "code",
      "source": [
        "w=tf.zeros(shape=(13,1))\n",
        "b=tf.zeros(shape=(1))"
      ],
      "metadata": {
        "id": "RLwuGf5J_rC7"
      },
      "execution_count": null,
      "outputs": []
    },
    {
      "cell_type": "code",
      "source": [
        "def prediction(x,w,b):\n",
        "  xw_matmul = tf.matmul(x,w)\n",
        "  y=tf.add(xw_matmul,b)\n",
        "\n",
        "  return y"
      ],
      "metadata": {
        "id": "VmWMdsUiBMhh"
      },
      "execution_count": null,
      "outputs": []
    },
    {
      "cell_type": "code",
      "source": [
        "from numpy.lib.function_base import diff\n",
        "def loss(y_actual,y_predicted):\n",
        "  diff=y_actual-y_predicted\n",
        "  sqr=tf.sqr(diff)\n",
        "  avg=tf.reduce_mean(sqr)\n",
        "\n",
        "  return avg"
      ],
      "metadata": {
        "id": "5-FjYtMzCTeX"
      },
      "execution_count": null,
      "outputs": []
    },
    {
      "cell_type": "code",
      "source": [
        "def train(x,y_actual,w,b,learning_rate=0.01):\n",
        "  with tf.GradientTape() as g:\n",
        "    g.watch([w,b])\n",
        "    current_prediction = prediction(x,w,b)\n",
        "    current_loss = (y_actual,current_prediction)\n",
        "    dw, db = g.gradient(current_loss[w,b])\n",
        "    w = w - learning_rate*dw\n",
        "    b = b-learning_rate*db\n",
        "\n",
        "    return w,b"
      ],
      "metadata": {
        "id": "Hz9Qq5WQHmhe"
      },
      "execution_count": null,
      "outputs": []
    },
    {
      "cell_type": "code",
      "source": [
        "#for i in range(100):\n",
        "#w,b = train(xtrain, ytrain, w, b,learning_rate=0.01)\n",
        "#print('Current Loss on Iteration', i,\n",
        "#loss(ytrain,prediction(xtrain, w, b)).numpy())"
      ],
      "metadata": {
        "id": "TJsDOHsmOaRa"
      },
      "execution_count": null,
      "outputs": []
    },
    {
      "cell_type": "code",
      "source": [
        "import sklearn.preprocessing"
      ],
      "metadata": {
        "id": "M4_3hkUHSkpd"
      },
      "execution_count": null,
      "outputs": []
    },
    {
      "cell_type": "code",
      "source": [
        "from sklearn.preprocessing import Normalizer"
      ],
      "metadata": {
        "id": "ju9Vo3CPYiLm"
      },
      "execution_count": null,
      "outputs": []
    },
    {
      "cell_type": "code",
      "source": [
        "(xtrain,ytrain),(_,_) = tf.keras.datasets.boston_housing.load_data(test_split=0)"
      ],
      "metadata": {
        "id": "5i-qgl_nYouN"
      },
      "execution_count": null,
      "outputs": []
    },
    {
      "cell_type": "code",
      "source": [
        "xtrain=xtrain.astype('float32')"
      ],
      "metadata": {
        "id": "32FcuwTmY-kq"
      },
      "execution_count": null,
      "outputs": []
    },
    {
      "cell_type": "code",
      "source": [
        "ytrain=ytrain.astype('float32')"
      ],
      "metadata": {
        "id": "fcrpwzw3Y_Gl"
      },
      "execution_count": null,
      "outputs": []
    },
    {
      "cell_type": "code",
      "source": [
        "xtrain.shape"
      ],
      "metadata": {
        "colab": {
          "base_uri": "https://localhost:8080/"
        },
        "id": "7-Cd3Cp-ZBaF",
        "outputId": "7f45e8a5-ed69-4147-c31b-e7172ca445bf"
      },
      "execution_count": null,
      "outputs": [
        {
          "output_type": "execute_result",
          "data": {
            "text/plain": [
              "(506, 13)"
            ]
          },
          "metadata": {},
          "execution_count": 66
        }
      ]
    },
    {
      "cell_type": "code",
      "source": [
        "ytrain.shape"
      ],
      "metadata": {
        "colab": {
          "base_uri": "https://localhost:8080/"
        },
        "id": "WRdaYFF8ZFVi",
        "outputId": "9c2219eb-2c52-4d9c-9d94-5a1eb26e93ab"
      },
      "execution_count": null,
      "outputs": [
        {
          "output_type": "execute_result",
          "data": {
            "text/plain": [
              "(506,)"
            ]
          },
          "metadata": {},
          "execution_count": 67
        }
      ]
    },
    {
      "cell_type": "code",
      "source": [
        "transformer = Normalizer()"
      ],
      "metadata": {
        "id": "vr10SG_IZHcc"
      },
      "execution_count": null,
      "outputs": []
    },
    {
      "cell_type": "code",
      "source": [
        "xtrain=transformer.fit_transform(xtrain)"
      ],
      "metadata": {
        "id": "4RgtEK4idaVM"
      },
      "execution_count": null,
      "outputs": []
    },
    {
      "cell_type": "code",
      "source": [
        "xtrain[0]"
      ],
      "metadata": {
        "colab": {
          "base_uri": "https://localhost:8080/"
        },
        "id": "lIysZbc2dogc",
        "outputId": "8f0f9691-7004-4d53-886e-43cf46d15238"
      },
      "execution_count": null,
      "outputs": [
        {
          "output_type": "execute_result",
          "data": {
            "text/plain": [
              "array([0.0024119 , 0.        , 0.01592969, 0.        , 0.00105285,\n",
              "       0.01201967, 0.17945357, 0.00778265, 0.00782785, 0.6007879 ,\n",
              "       0.04109624, 0.7767189 , 0.03663436], dtype=float32)"
            ]
          },
          "metadata": {},
          "execution_count": 70
        }
      ]
    },
    {
      "cell_type": "code",
      "source": [
        "w=tf.zeros(shape=(13,1))\n",
        "b=tf.zeros(shape=(1))"
      ],
      "metadata": {
        "id": "7AwhISFwdrWV"
      },
      "execution_count": null,
      "outputs": []
    },
    {
      "cell_type": "code",
      "source": [
        "def prediction(x,w,b):\n",
        "  xw_matmul = tf.matmul(x,w)\n",
        "  y=tf.add(xw_matmul,b)\n",
        "\n",
        "  return y"
      ],
      "metadata": {
        "id": "6FwOmEFJdy_U"
      },
      "execution_count": null,
      "outputs": []
    },
    {
      "cell_type": "code",
      "source": [
        "from numpy.lib.function_base import diff\n",
        "def loss(y_actual,y_predicted):\n",
        "  diff=y_actual-y_predicted\n",
        "  sqr=tf.sqr(diff)\n",
        "  avg=tf.reduce_mean(sqr)\n",
        "\n",
        "  return avg"
      ],
      "metadata": {
        "id": "l96YcSfxd1pk"
      },
      "execution_count": null,
      "outputs": []
    },
    {
      "cell_type": "code",
      "source": [
        "def train(x,y_actual,w,b,learning_rate=0.01):\n",
        "  with tf.GradientTape() as g:\n",
        "    g.watch([w,b])\n",
        "    current_prediction = prediction(x,w,b)\n",
        "    current_loss = (y_actual,current_prediction)\n",
        "    dw, db = g.gradient(current_loss[w,b])\n",
        "    w = w - learning_rate*dw\n",
        "    b = b-learning_rate*db\n",
        "\n",
        "    return w,b"
      ],
      "metadata": {
        "id": "Lyh5qwtbd5ns"
      },
      "execution_count": null,
      "outputs": []
    },
    {
      "cell_type": "code",
      "source": [
        "#for i in range(100):\n",
        "#w,b = train(xtrain, ytrain, w, b,learning_rate=0.01)\n",
        "#print('Current Loss on Iteration', i,\n",
        "#loss(ytrain,prediction(xtrain, w, b)).numpy())"
      ],
      "metadata": {
        "id": "sveUwOQZeE0D"
      },
      "execution_count": null,
      "outputs": []
    },
    {
      "cell_type": "code",
      "source": [
        "from sklearn.neighbors import KNeighborsRegressor"
      ],
      "metadata": {
        "id": "fP2C6xNteSxD"
      },
      "execution_count": null,
      "outputs": []
    },
    {
      "cell_type": "code",
      "source": [
        "from sklearn.cluster import KMeans"
      ],
      "metadata": {
        "id": "_Ri26y05sIwZ"
      },
      "execution_count": null,
      "outputs": []
    },
    {
      "cell_type": "code",
      "source": [
        "import tensorflow as tf"
      ],
      "metadata": {
        "id": "vHniUl6-tAtO"
      },
      "execution_count": null,
      "outputs": []
    },
    {
      "cell_type": "code",
      "source": [
        "(xtrain,ytrain),(_,_)=tf.keras.datasets.boston_housing.load_data(test_split=0)"
      ],
      "metadata": {
        "id": "VcnB5h020z5z"
      },
      "execution_count": null,
      "outputs": []
    },
    {
      "cell_type": "code",
      "source": [
        "xtrain=xtrain.astype('float32')"
      ],
      "metadata": {
        "id": "CDT2x2GG1I4u"
      },
      "execution_count": null,
      "outputs": []
    },
    {
      "cell_type": "code",
      "source": [
        "ytrain=ytrain.astype('float32')"
      ],
      "metadata": {
        "id": "Wl33bofp1RJX"
      },
      "execution_count": null,
      "outputs": []
    },
    {
      "cell_type": "code",
      "source": [
        "xtrain.dtype"
      ],
      "metadata": {
        "colab": {
          "base_uri": "https://localhost:8080/"
        },
        "id": "GiIrlNUU1biu",
        "outputId": "3eb57b6f-3cbf-42cd-af4a-9f2a31c4ecc6"
      },
      "execution_count": null,
      "outputs": [
        {
          "output_type": "execute_result",
          "data": {
            "text/plain": [
              "dtype('float32')"
            ]
          },
          "metadata": {},
          "execution_count": 27
        }
      ]
    },
    {
      "cell_type": "code",
      "source": [
        "ytrain.dtype"
      ],
      "metadata": {
        "colab": {
          "base_uri": "https://localhost:8080/"
        },
        "id": "iaDSkVtz1db-",
        "outputId": "c5aab889-c919-4ee3-ff35-b49828da252a"
      },
      "execution_count": null,
      "outputs": [
        {
          "output_type": "execute_result",
          "data": {
            "text/plain": [
              "dtype('float32')"
            ]
          },
          "metadata": {},
          "execution_count": 28
        }
      ]
    },
    {
      "cell_type": "code",
      "source": [
        "tf.compat.v1.enable_eager_execution(\n",
        "    config=None, device_policy=None, execution_mode=None\n",
        ")"
      ],
      "metadata": {
        "id": "iSepfSa_1hEZ"
      },
      "execution_count": null,
      "outputs": []
    },
    {
      "cell_type": "code",
      "source": [
        "from sklearn.preprocessing import Normalizer"
      ],
      "metadata": {
        "id": "P9RzMYF21siV"
      },
      "execution_count": null,
      "outputs": []
    },
    {
      "cell_type": "code",
      "source": [
        "transformer=Normalizer()"
      ],
      "metadata": {
        "id": "oOLG2px_1zrI"
      },
      "execution_count": null,
      "outputs": []
    },
    {
      "cell_type": "code",
      "source": [
        "xtrain=transformer.fit_transform(xtrain)"
      ],
      "metadata": {
        "id": "5Z_CbWsL19CF"
      },
      "execution_count": null,
      "outputs": []
    },
    {
      "cell_type": "code",
      "source": [
        "model=tf.keras.models.Sequential()"
      ],
      "metadata": {
        "id": "CcIh2Cf92FTy"
      },
      "execution_count": null,
      "outputs": []
    },
    {
      "cell_type": "code",
      "source": [
        "model.add=tf.keras.layers.Dense(1,input_shape=(13,))"
      ],
      "metadata": {
        "id": "pEATCUG42OPY"
      },
      "execution_count": null,
      "outputs": []
    },
    {
      "cell_type": "code",
      "source": [
        "model.compile(optimizer='sgd',loss='mse')"
      ],
      "metadata": {
        "id": "6hanpg6B2eNT"
      },
      "execution_count": null,
      "outputs": []
    },
    {
      "cell_type": "code",
      "source": [
        "a=model.fit(xtrain,ytrain,epochs=100)"
      ],
      "metadata": {
        "colab": {
          "base_uri": "https://localhost:8080/"
        },
        "id": "uYVdicnc2sxL",
        "outputId": "b786df52-66b6-4dd0-af17-835575403958"
      },
      "execution_count": null,
      "outputs": [
        {
          "output_type": "stream",
          "name": "stdout",
          "text": [
            "Epoch 1/100\n",
            "16/16 [==============================] - 0s 2ms/step - loss: 586.6303\n",
            "Epoch 2/100\n",
            "16/16 [==============================] - 0s 3ms/step - loss: 586.6303\n",
            "Epoch 3/100\n",
            "16/16 [==============================] - 0s 2ms/step - loss: 586.6303\n",
            "Epoch 4/100\n",
            "16/16 [==============================] - 0s 2ms/step - loss: 586.6304\n",
            "Epoch 5/100\n",
            "16/16 [==============================] - 0s 4ms/step - loss: 586.6304\n",
            "Epoch 6/100\n",
            "16/16 [==============================] - 0s 3ms/step - loss: 586.6303\n",
            "Epoch 7/100\n",
            "16/16 [==============================] - 0s 3ms/step - loss: 586.6303\n",
            "Epoch 8/100\n",
            "16/16 [==============================] - 0s 3ms/step - loss: 586.6304\n",
            "Epoch 9/100\n",
            "16/16 [==============================] - 0s 2ms/step - loss: 586.6304\n",
            "Epoch 10/100\n",
            "16/16 [==============================] - 0s 3ms/step - loss: 586.6304\n",
            "Epoch 11/100\n",
            "16/16 [==============================] - 0s 3ms/step - loss: 586.6303\n",
            "Epoch 12/100\n",
            "16/16 [==============================] - 0s 3ms/step - loss: 586.6303\n",
            "Epoch 13/100\n",
            "16/16 [==============================] - 0s 2ms/step - loss: 586.6303\n",
            "Epoch 14/100\n",
            "16/16 [==============================] - 0s 2ms/step - loss: 586.6304\n",
            "Epoch 15/100\n",
            "16/16 [==============================] - 0s 2ms/step - loss: 586.6303\n",
            "Epoch 16/100\n",
            "16/16 [==============================] - 0s 3ms/step - loss: 586.6303\n",
            "Epoch 17/100\n",
            "16/16 [==============================] - 0s 2ms/step - loss: 586.6302\n",
            "Epoch 18/100\n",
            "16/16 [==============================] - 0s 2ms/step - loss: 586.6304\n",
            "Epoch 19/100\n",
            "16/16 [==============================] - 0s 2ms/step - loss: 586.6303\n",
            "Epoch 20/100\n",
            "16/16 [==============================] - 0s 2ms/step - loss: 586.6303\n",
            "Epoch 21/100\n",
            "16/16 [==============================] - 0s 3ms/step - loss: 586.6304\n",
            "Epoch 22/100\n",
            "16/16 [==============================] - 0s 3ms/step - loss: 586.6302\n",
            "Epoch 23/100\n",
            "16/16 [==============================] - 0s 2ms/step - loss: 586.6304\n",
            "Epoch 24/100\n",
            "16/16 [==============================] - 0s 2ms/step - loss: 586.6303\n",
            "Epoch 25/100\n",
            "16/16 [==============================] - 0s 2ms/step - loss: 586.6303\n",
            "Epoch 26/100\n",
            "16/16 [==============================] - 0s 2ms/step - loss: 586.6303\n",
            "Epoch 27/100\n",
            "16/16 [==============================] - 0s 2ms/step - loss: 586.6303\n",
            "Epoch 28/100\n",
            "16/16 [==============================] - 0s 2ms/step - loss: 586.6303\n",
            "Epoch 29/100\n",
            "16/16 [==============================] - 0s 2ms/step - loss: 586.6303\n",
            "Epoch 30/100\n",
            "16/16 [==============================] - 0s 2ms/step - loss: 586.6303\n",
            "Epoch 31/100\n",
            "16/16 [==============================] - 0s 2ms/step - loss: 586.6304\n",
            "Epoch 32/100\n",
            "16/16 [==============================] - 0s 2ms/step - loss: 586.6303\n",
            "Epoch 33/100\n",
            "16/16 [==============================] - 0s 2ms/step - loss: 586.6303\n",
            "Epoch 34/100\n",
            "16/16 [==============================] - 0s 2ms/step - loss: 586.6304\n",
            "Epoch 35/100\n",
            "16/16 [==============================] - 0s 2ms/step - loss: 586.6302\n",
            "Epoch 36/100\n",
            "16/16 [==============================] - 0s 2ms/step - loss: 586.6302\n",
            "Epoch 37/100\n",
            "16/16 [==============================] - 0s 2ms/step - loss: 586.6304\n",
            "Epoch 38/100\n",
            "16/16 [==============================] - 0s 2ms/step - loss: 586.6303\n",
            "Epoch 39/100\n",
            "16/16 [==============================] - 0s 3ms/step - loss: 586.6304\n",
            "Epoch 40/100\n",
            "16/16 [==============================] - 0s 3ms/step - loss: 586.6304\n",
            "Epoch 41/100\n",
            "16/16 [==============================] - 0s 3ms/step - loss: 586.6303\n",
            "Epoch 42/100\n",
            "16/16 [==============================] - 0s 3ms/step - loss: 586.6304\n",
            "Epoch 43/100\n",
            "16/16 [==============================] - 0s 2ms/step - loss: 586.6304\n",
            "Epoch 44/100\n",
            "16/16 [==============================] - 0s 3ms/step - loss: 586.6303\n",
            "Epoch 45/100\n",
            "16/16 [==============================] - 0s 3ms/step - loss: 586.6304\n",
            "Epoch 46/100\n",
            "16/16 [==============================] - 0s 3ms/step - loss: 586.6303\n",
            "Epoch 47/100\n",
            "16/16 [==============================] - 0s 2ms/step - loss: 586.6303\n",
            "Epoch 48/100\n",
            "16/16 [==============================] - 0s 3ms/step - loss: 586.6304\n",
            "Epoch 49/100\n",
            "16/16 [==============================] - 0s 2ms/step - loss: 586.6304\n",
            "Epoch 50/100\n",
            "16/16 [==============================] - 0s 4ms/step - loss: 586.6304\n",
            "Epoch 51/100\n",
            "16/16 [==============================] - 0s 3ms/step - loss: 586.6303\n",
            "Epoch 52/100\n",
            "16/16 [==============================] - 0s 3ms/step - loss: 586.6304\n",
            "Epoch 53/100\n",
            "16/16 [==============================] - 0s 2ms/step - loss: 586.6303\n",
            "Epoch 54/100\n",
            "16/16 [==============================] - 0s 3ms/step - loss: 586.6303\n",
            "Epoch 55/100\n",
            "16/16 [==============================] - 0s 3ms/step - loss: 586.6303\n",
            "Epoch 56/100\n",
            "16/16 [==============================] - 0s 3ms/step - loss: 586.6304\n",
            "Epoch 57/100\n",
            "16/16 [==============================] - 0s 4ms/step - loss: 586.6304\n",
            "Epoch 58/100\n",
            "16/16 [==============================] - 0s 3ms/step - loss: 586.6303\n",
            "Epoch 59/100\n",
            "16/16 [==============================] - 0s 3ms/step - loss: 586.6304\n",
            "Epoch 60/100\n",
            "16/16 [==============================] - 0s 2ms/step - loss: 586.6303\n",
            "Epoch 61/100\n",
            "16/16 [==============================] - 0s 2ms/step - loss: 586.6303\n",
            "Epoch 62/100\n",
            "16/16 [==============================] - 0s 3ms/step - loss: 586.6302\n",
            "Epoch 63/100\n",
            "16/16 [==============================] - 0s 3ms/step - loss: 586.6304\n",
            "Epoch 64/100\n",
            "16/16 [==============================] - 0s 3ms/step - loss: 586.6304\n",
            "Epoch 65/100\n",
            "16/16 [==============================] - 0s 2ms/step - loss: 586.6303\n",
            "Epoch 66/100\n",
            "16/16 [==============================] - 0s 2ms/step - loss: 586.6303\n",
            "Epoch 67/100\n",
            "16/16 [==============================] - 0s 2ms/step - loss: 586.6303\n",
            "Epoch 68/100\n",
            "16/16 [==============================] - 0s 2ms/step - loss: 586.6304\n",
            "Epoch 69/100\n",
            "16/16 [==============================] - 0s 3ms/step - loss: 586.6303\n",
            "Epoch 70/100\n",
            "16/16 [==============================] - 0s 3ms/step - loss: 586.6303\n",
            "Epoch 71/100\n",
            "16/16 [==============================] - 0s 2ms/step - loss: 586.6304\n",
            "Epoch 72/100\n",
            "16/16 [==============================] - 0s 2ms/step - loss: 586.6304\n",
            "Epoch 73/100\n",
            "16/16 [==============================] - 0s 2ms/step - loss: 586.6303\n",
            "Epoch 74/100\n",
            "16/16 [==============================] - 0s 3ms/step - loss: 586.6304\n",
            "Epoch 75/100\n",
            "16/16 [==============================] - 0s 2ms/step - loss: 586.6304\n",
            "Epoch 76/100\n",
            "16/16 [==============================] - 0s 2ms/step - loss: 586.6303\n",
            "Epoch 77/100\n",
            "16/16 [==============================] - 0s 3ms/step - loss: 586.6303\n",
            "Epoch 78/100\n",
            "16/16 [==============================] - 0s 2ms/step - loss: 586.6304\n",
            "Epoch 79/100\n",
            "16/16 [==============================] - 0s 3ms/step - loss: 586.6304\n",
            "Epoch 80/100\n",
            "16/16 [==============================] - 0s 2ms/step - loss: 586.6303\n",
            "Epoch 81/100\n",
            "16/16 [==============================] - 0s 2ms/step - loss: 586.6303\n",
            "Epoch 82/100\n",
            "16/16 [==============================] - 0s 3ms/step - loss: 586.6304\n",
            "Epoch 83/100\n",
            "16/16 [==============================] - 0s 2ms/step - loss: 586.6304\n",
            "Epoch 84/100\n",
            "16/16 [==============================] - 0s 3ms/step - loss: 586.6303\n",
            "Epoch 85/100\n",
            "16/16 [==============================] - 0s 3ms/step - loss: 586.6304\n",
            "Epoch 86/100\n",
            "16/16 [==============================] - 0s 2ms/step - loss: 586.6303\n",
            "Epoch 87/100\n",
            "16/16 [==============================] - 0s 3ms/step - loss: 586.6304\n",
            "Epoch 88/100\n",
            "16/16 [==============================] - 0s 2ms/step - loss: 586.6304\n",
            "Epoch 89/100\n",
            "16/16 [==============================] - 0s 2ms/step - loss: 586.6304\n",
            "Epoch 90/100\n",
            "16/16 [==============================] - 0s 3ms/step - loss: 586.6304\n",
            "Epoch 91/100\n",
            "16/16 [==============================] - 0s 3ms/step - loss: 586.6304\n",
            "Epoch 92/100\n",
            "16/16 [==============================] - 0s 2ms/step - loss: 586.6304\n",
            "Epoch 93/100\n",
            "16/16 [==============================] - 0s 2ms/step - loss: 586.6303\n",
            "Epoch 94/100\n",
            "16/16 [==============================] - 0s 3ms/step - loss: 586.6303\n",
            "Epoch 95/100\n",
            "16/16 [==============================] - 0s 3ms/step - loss: 586.6303\n",
            "Epoch 96/100\n",
            "16/16 [==============================] - 0s 2ms/step - loss: 586.6303\n",
            "Epoch 97/100\n",
            "16/16 [==============================] - 0s 3ms/step - loss: 586.6303\n",
            "Epoch 98/100\n",
            "16/16 [==============================] - 0s 2ms/step - loss: 586.6304\n",
            "Epoch 99/100\n",
            "16/16 [==============================] - 0s 3ms/step - loss: 586.6302\n",
            "Epoch 100/100\n",
            "16/16 [==============================] - 0s 2ms/step - loss: 586.6303\n"
          ]
        }
      ]
    },
    {
      "cell_type": "code",
      "source": [
        "model.get_weights()"
      ],
      "metadata": {
        "colab": {
          "base_uri": "https://localhost:8080/"
        },
        "id": "J900pqSo24mm",
        "outputId": "f40a975f-b247-4c41-d990-e816db7f20d3"
      },
      "execution_count": null,
      "outputs": [
        {
          "output_type": "execute_result",
          "data": {
            "text/plain": [
              "[]"
            ]
          },
          "metadata": {},
          "execution_count": 37
        }
      ]
    },
    {
      "cell_type": "code",
      "source": [
        "import tensorflow as tf"
      ],
      "metadata": {
        "id": "YIA7Z9I57NuM"
      },
      "execution_count": null,
      "outputs": []
    },
    {
      "cell_type": "code",
      "source": [
        "tf.compat.v1.enable_eager_execution"
      ],
      "metadata": {
        "colab": {
          "base_uri": "https://localhost:8080/"
        },
        "id": "bg8vZGUHP8R3",
        "outputId": "1d56d34b-ddf2-4f17-8f6e-7d240b35b97f"
      },
      "execution_count": null,
      "outputs": [
        {
          "output_type": "execute_result",
          "data": {
            "text/plain": [
              "<function tensorflow.python.framework.ops.enable_eager_execution(config=None, device_policy=None, execution_mode=None)>"
            ]
          },
          "metadata": {},
          "execution_count": 25
        }
      ]
    },
    {
      "cell_type": "code",
      "source": [
        "(xtrain,ytrain),(xtest,ytest) = tf.keras.datasets.mnist.load_data()"
      ],
      "metadata": {
        "id": "Dzmp7WgNQKi7"
      },
      "execution_count": null,
      "outputs": []
    },
    {
      "cell_type": "code",
      "source": [
        "xtrain.shape"
      ],
      "metadata": {
        "colab": {
          "base_uri": "https://localhost:8080/"
        },
        "id": "IMga90fRRPoU",
        "outputId": "9149c350-cd20-4b71-f756-b454075cb2b2"
      },
      "execution_count": null,
      "outputs": [
        {
          "output_type": "execute_result",
          "data": {
            "text/plain": [
              "(60000, 28, 28)"
            ]
          },
          "metadata": {},
          "execution_count": 27
        }
      ]
    },
    {
      "cell_type": "code",
      "source": [
        "xtrain[0]"
      ],
      "metadata": {
        "colab": {
          "base_uri": "https://localhost:8080/"
        },
        "id": "F9kv90xORYZ5",
        "outputId": "358e76c2-b3ff-4c9c-ae6a-974b9cef8db6"
      },
      "execution_count": null,
      "outputs": [
        {
          "output_type": "execute_result",
          "data": {
            "text/plain": [
              "array([[  0,   0,   0,   0,   0,   0,   0,   0,   0,   0,   0,   0,   0,\n",
              "          0,   0,   0,   0,   0,   0,   0,   0,   0,   0,   0,   0,   0,\n",
              "          0,   0],\n",
              "       [  0,   0,   0,   0,   0,   0,   0,   0,   0,   0,   0,   0,   0,\n",
              "          0,   0,   0,   0,   0,   0,   0,   0,   0,   0,   0,   0,   0,\n",
              "          0,   0],\n",
              "       [  0,   0,   0,   0,   0,   0,   0,   0,   0,   0,   0,   0,   0,\n",
              "          0,   0,   0,   0,   0,   0,   0,   0,   0,   0,   0,   0,   0,\n",
              "          0,   0],\n",
              "       [  0,   0,   0,   0,   0,   0,   0,   0,   0,   0,   0,   0,   0,\n",
              "          0,   0,   0,   0,   0,   0,   0,   0,   0,   0,   0,   0,   0,\n",
              "          0,   0],\n",
              "       [  0,   0,   0,   0,   0,   0,   0,   0,   0,   0,   0,   0,   0,\n",
              "          0,   0,   0,   0,   0,   0,   0,   0,   0,   0,   0,   0,   0,\n",
              "          0,   0],\n",
              "       [  0,   0,   0,   0,   0,   0,   0,   0,   0,   0,   0,   0,   3,\n",
              "         18,  18,  18, 126, 136, 175,  26, 166, 255, 247, 127,   0,   0,\n",
              "          0,   0],\n",
              "       [  0,   0,   0,   0,   0,   0,   0,   0,  30,  36,  94, 154, 170,\n",
              "        253, 253, 253, 253, 253, 225, 172, 253, 242, 195,  64,   0,   0,\n",
              "          0,   0],\n",
              "       [  0,   0,   0,   0,   0,   0,   0,  49, 238, 253, 253, 253, 253,\n",
              "        253, 253, 253, 253, 251,  93,  82,  82,  56,  39,   0,   0,   0,\n",
              "          0,   0],\n",
              "       [  0,   0,   0,   0,   0,   0,   0,  18, 219, 253, 253, 253, 253,\n",
              "        253, 198, 182, 247, 241,   0,   0,   0,   0,   0,   0,   0,   0,\n",
              "          0,   0],\n",
              "       [  0,   0,   0,   0,   0,   0,   0,   0,  80, 156, 107, 253, 253,\n",
              "        205,  11,   0,  43, 154,   0,   0,   0,   0,   0,   0,   0,   0,\n",
              "          0,   0],\n",
              "       [  0,   0,   0,   0,   0,   0,   0,   0,   0,  14,   1, 154, 253,\n",
              "         90,   0,   0,   0,   0,   0,   0,   0,   0,   0,   0,   0,   0,\n",
              "          0,   0],\n",
              "       [  0,   0,   0,   0,   0,   0,   0,   0,   0,   0,   0, 139, 253,\n",
              "        190,   2,   0,   0,   0,   0,   0,   0,   0,   0,   0,   0,   0,\n",
              "          0,   0],\n",
              "       [  0,   0,   0,   0,   0,   0,   0,   0,   0,   0,   0,  11, 190,\n",
              "        253,  70,   0,   0,   0,   0,   0,   0,   0,   0,   0,   0,   0,\n",
              "          0,   0],\n",
              "       [  0,   0,   0,   0,   0,   0,   0,   0,   0,   0,   0,   0,  35,\n",
              "        241, 225, 160, 108,   1,   0,   0,   0,   0,   0,   0,   0,   0,\n",
              "          0,   0],\n",
              "       [  0,   0,   0,   0,   0,   0,   0,   0,   0,   0,   0,   0,   0,\n",
              "         81, 240, 253, 253, 119,  25,   0,   0,   0,   0,   0,   0,   0,\n",
              "          0,   0],\n",
              "       [  0,   0,   0,   0,   0,   0,   0,   0,   0,   0,   0,   0,   0,\n",
              "          0,  45, 186, 253, 253, 150,  27,   0,   0,   0,   0,   0,   0,\n",
              "          0,   0],\n",
              "       [  0,   0,   0,   0,   0,   0,   0,   0,   0,   0,   0,   0,   0,\n",
              "          0,   0,  16,  93, 252, 253, 187,   0,   0,   0,   0,   0,   0,\n",
              "          0,   0],\n",
              "       [  0,   0,   0,   0,   0,   0,   0,   0,   0,   0,   0,   0,   0,\n",
              "          0,   0,   0,   0, 249, 253, 249,  64,   0,   0,   0,   0,   0,\n",
              "          0,   0],\n",
              "       [  0,   0,   0,   0,   0,   0,   0,   0,   0,   0,   0,   0,   0,\n",
              "          0,  46, 130, 183, 253, 253, 207,   2,   0,   0,   0,   0,   0,\n",
              "          0,   0],\n",
              "       [  0,   0,   0,   0,   0,   0,   0,   0,   0,   0,   0,   0,  39,\n",
              "        148, 229, 253, 253, 253, 250, 182,   0,   0,   0,   0,   0,   0,\n",
              "          0,   0],\n",
              "       [  0,   0,   0,   0,   0,   0,   0,   0,   0,   0,  24, 114, 221,\n",
              "        253, 253, 253, 253, 201,  78,   0,   0,   0,   0,   0,   0,   0,\n",
              "          0,   0],\n",
              "       [  0,   0,   0,   0,   0,   0,   0,   0,  23,  66, 213, 253, 253,\n",
              "        253, 253, 198,  81,   2,   0,   0,   0,   0,   0,   0,   0,   0,\n",
              "          0,   0],\n",
              "       [  0,   0,   0,   0,   0,   0,  18, 171, 219, 253, 253, 253, 253,\n",
              "        195,  80,   9,   0,   0,   0,   0,   0,   0,   0,   0,   0,   0,\n",
              "          0,   0],\n",
              "       [  0,   0,   0,   0,  55, 172, 226, 253, 253, 253, 253, 244, 133,\n",
              "         11,   0,   0,   0,   0,   0,   0,   0,   0,   0,   0,   0,   0,\n",
              "          0,   0],\n",
              "       [  0,   0,   0,   0, 136, 253, 253, 253, 212, 135, 132,  16,   0,\n",
              "          0,   0,   0,   0,   0,   0,   0,   0,   0,   0,   0,   0,   0,\n",
              "          0,   0],\n",
              "       [  0,   0,   0,   0,   0,   0,   0,   0,   0,   0,   0,   0,   0,\n",
              "          0,   0,   0,   0,   0,   0,   0,   0,   0,   0,   0,   0,   0,\n",
              "          0,   0],\n",
              "       [  0,   0,   0,   0,   0,   0,   0,   0,   0,   0,   0,   0,   0,\n",
              "          0,   0,   0,   0,   0,   0,   0,   0,   0,   0,   0,   0,   0,\n",
              "          0,   0],\n",
              "       [  0,   0,   0,   0,   0,   0,   0,   0,   0,   0,   0,   0,   0,\n",
              "          0,   0,   0,   0,   0,   0,   0,   0,   0,   0,   0,   0,   0,\n",
              "          0,   0]], dtype=uint8)"
            ]
          },
          "metadata": {},
          "execution_count": 28
        }
      ]
    },
    {
      "cell_type": "code",
      "source": [
        "xtest.shape"
      ],
      "metadata": {
        "colab": {
          "base_uri": "https://localhost:8080/"
        },
        "id": "69_7r1ueRt0L",
        "outputId": "27afb283-5f4d-4cb0-bf9a-d179894803f0"
      },
      "execution_count": null,
      "outputs": [
        {
          "output_type": "execute_result",
          "data": {
            "text/plain": [
              "(10000, 28, 28)"
            ]
          },
          "metadata": {},
          "execution_count": 29
        }
      ]
    },
    {
      "cell_type": "code",
      "source": [
        "ytest.shape"
      ],
      "metadata": {
        "colab": {
          "base_uri": "https://localhost:8080/"
        },
        "id": "k4cbzpdCR70T",
        "outputId": "010f4773-9b30-481f-c287-5d831e4f15b6"
      },
      "execution_count": null,
      "outputs": [
        {
          "output_type": "execute_result",
          "data": {
            "text/plain": [
              "(10000,)"
            ]
          },
          "metadata": {},
          "execution_count": 50
        }
      ]
    },
    {
      "cell_type": "code",
      "source": [
        "print(ytest[0:5])"
      ],
      "metadata": {
        "colab": {
          "base_uri": "https://localhost:8080/"
        },
        "id": "k_xEa9mWSAWf",
        "outputId": "43413a1e-04da-4dca-aece-e3a7ba2d507d"
      },
      "execution_count": null,
      "outputs": [
        {
          "output_type": "stream",
          "name": "stdout",
          "text": [
            "[7 2 1 0 4]\n"
          ]
        }
      ]
    },
    {
      "cell_type": "code",
      "source": [
        "ytrain[0:2]"
      ],
      "metadata": {
        "colab": {
          "base_uri": "https://localhost:8080/"
        },
        "id": "Xv3My4SISD6a",
        "outputId": "afa532f0-7386-4e07-a228-525485de1306"
      },
      "execution_count": null,
      "outputs": [
        {
          "output_type": "execute_result",
          "data": {
            "text/plain": [
              "array([5, 0], dtype=uint8)"
            ]
          },
          "metadata": {},
          "execution_count": 52
        }
      ]
    },
    {
      "cell_type": "code",
      "source": [
        "ytrain=tf.keras.utils.to_categorical(ytrain,num_classes=10)"
      ],
      "metadata": {
        "id": "qMyl8m3vSRsv"
      },
      "execution_count": null,
      "outputs": []
    },
    {
      "cell_type": "code",
      "source": [
        "ytest=tf.keras.utils.to_categorical(ytest,num_classes=10)"
      ],
      "metadata": {
        "id": "EqsPn3j5Sk2o"
      },
      "execution_count": null,
      "outputs": []
    },
    {
      "cell_type": "code",
      "source": [
        "ytrain.shape"
      ],
      "metadata": {
        "colab": {
          "base_uri": "https://localhost:8080/"
        },
        "id": "Db9UfExMSsHq",
        "outputId": "bcafe9da-340d-42b0-bc0f-9345b0d3ac79"
      },
      "execution_count": null,
      "outputs": [
        {
          "output_type": "execute_result",
          "data": {
            "text/plain": [
              "(60000, 10)"
            ]
          },
          "metadata": {},
          "execution_count": 55
        }
      ]
    },
    {
      "cell_type": "code",
      "source": [
        "ytrain[0:9]"
      ],
      "metadata": {
        "colab": {
          "base_uri": "https://localhost:8080/"
        },
        "id": "MV73N13zS4Hq",
        "outputId": "29803625-5083-4b20-d716-7a96a9e1bf53"
      },
      "execution_count": null,
      "outputs": [
        {
          "output_type": "execute_result",
          "data": {
            "text/plain": [
              "array([[0., 0., 0., 0., 0., 1., 0., 0., 0., 0.],\n",
              "       [1., 0., 0., 0., 0., 0., 0., 0., 0., 0.],\n",
              "       [0., 0., 0., 0., 1., 0., 0., 0., 0., 0.],\n",
              "       [0., 1., 0., 0., 0., 0., 0., 0., 0., 0.],\n",
              "       [0., 0., 0., 0., 0., 0., 0., 0., 0., 1.],\n",
              "       [0., 0., 1., 0., 0., 0., 0., 0., 0., 0.],\n",
              "       [0., 1., 0., 0., 0., 0., 0., 0., 0., 0.],\n",
              "       [0., 0., 0., 1., 0., 0., 0., 0., 0., 0.],\n",
              "       [0., 1., 0., 0., 0., 0., 0., 0., 0., 0.]], dtype=float32)"
            ]
          },
          "metadata": {},
          "execution_count": 56
        }
      ]
    },
    {
      "cell_type": "code",
      "source": [
        "model=tf.keras.models.Sequential()"
      ],
      "metadata": {
        "id": "I_4mECXlS9v5"
      },
      "execution_count": null,
      "outputs": []
    },
    {
      "cell_type": "code",
      "source": [
        "model.add(tf.keras.layers.Reshape((784,),input_shape=(28,28)))"
      ],
      "metadata": {
        "id": "w6X4dAlJTVkx"
      },
      "execution_count": null,
      "outputs": []
    },
    {
      "cell_type": "code",
      "source": [
        "model.add(tf.keras.layers.BatchNormalization())"
      ],
      "metadata": {
        "id": "f56JltsmTzGn"
      },
      "execution_count": null,
      "outputs": []
    },
    {
      "cell_type": "code",
      "source": [
        "model.add(tf.keras.layers.Dense(10,activation='Softmax'))"
      ],
      "metadata": {
        "id": "3nrse1eGT7yy"
      },
      "execution_count": null,
      "outputs": []
    },
    {
      "cell_type": "code",
      "source": [
        "model.compile(optimizer='sgd',loss='categorical_crossentropy',metrics=['accuracy'])"
      ],
      "metadata": {
        "id": "5PVxmOmbUNmk"
      },
      "execution_count": null,
      "outputs": []
    },
    {
      "cell_type": "code",
      "source": [
        "model.evaluate(xtest,ytest,verbose=32)"
      ],
      "metadata": {
        "colab": {
          "base_uri": "https://localhost:8080/"
        },
        "id": "XmNrHYxPXW4t",
        "outputId": "e70d58d4-4b9b-4925-a62c-afe7b86cc173"
      },
      "execution_count": null,
      "outputs": [
        {
          "output_type": "execute_result",
          "data": {
            "text/plain": [
              "[0.6194717884063721, 0.9179999828338623]"
            ]
          },
          "metadata": {},
          "execution_count": 73
        }
      ]
    },
    {
      "cell_type": "code",
      "source": [
        "model.summary()"
      ],
      "metadata": {
        "colab": {
          "base_uri": "https://localhost:8080/"
        },
        "id": "J4gH4yH4XjzJ",
        "outputId": "bb55ed6d-7324-4c55-9997-153135a080fb"
      },
      "execution_count": null,
      "outputs": [
        {
          "output_type": "stream",
          "name": "stdout",
          "text": [
            "Model: \"sequential_2\"\n",
            "_________________________________________________________________\n",
            " Layer (type)                Output Shape              Param #   \n",
            "=================================================================\n",
            " reshape (Reshape)           (None, 784)               0         \n",
            "                                                                 \n",
            " batch_normalization (BatchN  (None, 784)              3136      \n",
            " ormalization)                                                   \n",
            "                                                                 \n",
            " dense_2 (Dense)             (None, 10)                7850      \n",
            "                                                                 \n",
            "=================================================================\n",
            "Total params: 10,986\n",
            "Trainable params: 9,418\n",
            "Non-trainable params: 1,568\n",
            "_________________________________________________________________\n"
          ]
        }
      ]
    },
    {
      "cell_type": "code",
      "source": [
        "import tensorflow as tf"
      ],
      "metadata": {
        "id": "L2xWOxTMa562"
      },
      "execution_count": null,
      "outputs": []
    },
    {
      "cell_type": "code",
      "source": [
        "(xtrain,ytrain),(xtest,ytest) = tf.keras.datasets.mnist.load_data()"
      ],
      "metadata": {
        "colab": {
          "base_uri": "https://localhost:8080/"
        },
        "id": "ru92tbvA9PE7",
        "outputId": "436e15fd-8494-4e60-dbaa-7a155eed8e79"
      },
      "execution_count": null,
      "outputs": [
        {
          "output_type": "stream",
          "name": "stdout",
          "text": [
            "Downloading data from https://storage.googleapis.com/tensorflow/tf-keras-datasets/mnist.npz\n",
            "11490434/11490434 [==============================] - 0s 0us/step\n"
          ]
        }
      ]
    },
    {
      "cell_type": "code",
      "source": [
        "xtrain.shape"
      ],
      "metadata": {
        "colab": {
          "base_uri": "https://localhost:8080/"
        },
        "id": "XrdM7R3-9cyS",
        "outputId": "fb18be03-fee2-43f1-975c-06b9bfff3871"
      },
      "execution_count": null,
      "outputs": [
        {
          "output_type": "execute_result",
          "data": {
            "text/plain": [
              "(60000, 28, 28)"
            ]
          },
          "metadata": {},
          "execution_count": 3
        }
      ]
    },
    {
      "cell_type": "code",
      "source": [
        "ytrain.shape"
      ],
      "metadata": {
        "colab": {
          "base_uri": "https://localhost:8080/"
        },
        "id": "m7_-RgO69gJT",
        "outputId": "64fd29d2-b2bf-4be4-e7bd-6a74b7af4ed1"
      },
      "execution_count": null,
      "outputs": [
        {
          "output_type": "execute_result",
          "data": {
            "text/plain": [
              "(60000,)"
            ]
          },
          "metadata": {},
          "execution_count": 4
        }
      ]
    },
    {
      "cell_type": "code",
      "source": [
        "ytrain=tf.keras.utils.to_categorical(ytrain,num_classes=10)"
      ],
      "metadata": {
        "id": "mGkfOYFS9jii"
      },
      "execution_count": null,
      "outputs": []
    },
    {
      "cell_type": "code",
      "source": [
        "ytest=tf.keras.utils.to_categorical(ytest,num_classes=10)"
      ],
      "metadata": {
        "id": "B2y6Ja_S9tnN"
      },
      "execution_count": null,
      "outputs": []
    },
    {
      "cell_type": "code",
      "source": [
        "#Initialize Sequential model\n",
        "model = tf.keras.models.Sequential()\n",
        "\n",
        "#Reshape data from 2D to 1D -> 28x28 to 784\n",
        "model.add(tf.keras.layers.Reshape((784,),input_shape=(28,28)))\n",
        "\n",
        "#Normalize the data\n",
        "model.add(tf.keras.layers.BatchNormalization())"
      ],
      "metadata": {
        "id": "xoIi9nCS97RE"
      },
      "execution_count": null,
      "outputs": []
    },
    {
      "cell_type": "code",
      "source": [
        "model.add(tf.keras.layers.BatchNormalization())"
      ],
      "metadata": {
        "id": "2ObgEiynBAON"
      },
      "execution_count": null,
      "outputs": []
    },
    {
      "cell_type": "code",
      "source": [
        "#Add 1st hidden layer\n",
        "model.add(tf.keras.layers.Dense(200, activation='relu'))"
      ],
      "metadata": {
        "id": "cSkMDh9I-GE_"
      },
      "execution_count": null,
      "outputs": []
    },
    {
      "cell_type": "code",
      "source": [
        "#Add 2nd hidden layer\n",
        "model.add(tf.keras.layers.Dense(100, activation='relu'))\n",
        "model.add(tf.keras.layers.BatchNormalization())"
      ],
      "metadata": {
        "id": "FclR1sJRA8Qt"
      },
      "execution_count": null,
      "outputs": []
    },
    {
      "cell_type": "code",
      "source": [
        "#Add 3rd hidden layer\n",
        "model.add(tf.keras.layers.Dense(60, activation='relu'))\n",
        "model.add(tf.keras.layers.BatchNormalization())"
      ],
      "metadata": {
        "id": "0FPIEL2eB-Kz"
      },
      "execution_count": null,
      "outputs": []
    },
    {
      "cell_type": "code",
      "source": [
        "#Add 4th hidden layer\n",
        "model.add(tf.keras.layers.Dense(30, activation='relu'))"
      ],
      "metadata": {
        "id": "-PBmA8rV-Y0T"
      },
      "execution_count": null,
      "outputs": []
    },
    {
      "cell_type": "code",
      "source": [
        "#Add OUTPUT layer\n",
        "model.add(tf.keras.layers.Dense(10, activation='softmax'))\n"
      ],
      "metadata": {
        "id": "1HAV6LQu_cKT"
      },
      "execution_count": null,
      "outputs": []
    },
    {
      "cell_type": "code",
      "source": [
        "sgd_optimizer = tf.keras.optimizers.SGD(lr=0.03, decay=0.001)\n",
        "model.compile(optimizer=sgd_optimizer, loss='categorical_crossentropy', metrics=['accuracy'])"
      ],
      "metadata": {
        "id": "bTCs73A0BQOO"
      },
      "execution_count": null,
      "outputs": []
    },
    {
      "cell_type": "code",
      "source": [
        "model.summary()"
      ],
      "metadata": {
        "colab": {
          "base_uri": "https://localhost:8080/"
        },
        "id": "iW61VuAbCjhr",
        "outputId": "22be70f7-6aec-4834-ba76-bd83e0a153e7"
      },
      "execution_count": null,
      "outputs": [
        {
          "output_type": "stream",
          "name": "stdout",
          "text": [
            "Model: \"sequential_2\"\n",
            "_________________________________________________________________\n",
            " Layer (type)                Output Shape              Param #   \n",
            "=================================================================\n",
            " reshape_1 (Reshape)         (None, 784)               0         \n",
            "                                                                 \n",
            " batch_normalization_8 (Batc  (None, 784)              3136      \n",
            " hNormalization)                                                 \n",
            "                                                                 \n",
            "=================================================================\n",
            "Total params: 3,136\n",
            "Trainable params: 1,568\n",
            "Non-trainable params: 1,568\n",
            "_________________________________________________________________\n"
          ]
        }
      ]
    },
    {
      "cell_type": "code",
      "source": [
        "import matplotlib.pyplot as plt"
      ],
      "metadata": {
        "id": "d0hulHXPFsOj"
      },
      "execution_count": null,
      "outputs": []
    },
    {
      "cell_type": "code",
      "source": [
        "import matplotlib.image as npimg"
      ],
      "metadata": {
        "id": "ALRCtp_UFw22"
      },
      "execution_count": null,
      "outputs": []
    },
    {
      "cell_type": "code",
      "source": [
        "import tensorflow.keras.preprocessing.image as ImageDataGenerator"
      ],
      "metadata": {
        "id": "TTywOzLGF08D"
      },
      "execution_count": null,
      "outputs": []
    },
    {
      "cell_type": "code",
      "source": [
        "import tensorflow.keras.preprocessing as image"
      ],
      "metadata": {
        "id": "sgz1fSo8GAR0"
      },
      "execution_count": null,
      "outputs": []
    },
    {
      "cell_type": "code",
      "source": [
        "from tensorflow.keras.layers import Conv2D"
      ],
      "metadata": {
        "id": "XVSgZsBDGG6U"
      },
      "execution_count": null,
      "outputs": []
    },
    {
      "cell_type": "code",
      "source": [
        "from tensorflow.keras.layers import MaxPool2D"
      ],
      "metadata": {
        "id": "GXhmtN7yGO7m"
      },
      "execution_count": null,
      "outputs": []
    },
    {
      "cell_type": "code",
      "source": [
        "(xtrain,ytrain),(xtest,ytest) = tf.keras.datasets.mnist.load_data()"
      ],
      "metadata": {
        "id": "9ImTGduFGTaI"
      },
      "execution_count": null,
      "outputs": []
    },
    {
      "cell_type": "code",
      "source": [
        "ytrain =tf.keras.utils.to_categorical(ytrain,num_classes=10)"
      ],
      "metadata": {
        "id": "FBFecfIbGhAu"
      },
      "execution_count": null,
      "outputs": []
    },
    {
      "cell_type": "code",
      "source": [
        "ytest=tf.keras.utils.to_categorical(ytest,num_classes=10)"
      ],
      "metadata": {
        "id": "SGiq9UWPGyAW"
      },
      "execution_count": null,
      "outputs": []
    },
    {
      "cell_type": "code",
      "source": [
        "model=tf.keras.models.Sequential()"
      ],
      "metadata": {
        "id": "pYZPXq3pHKsL"
      },
      "execution_count": null,
      "outputs": []
    },
    {
      "cell_type": "code",
      "source": [
        "model.add(tf.keras.layers.Reshape((784,),input_shape=(28,28)))"
      ],
      "metadata": {
        "id": "GyFxdwx3HPrw"
      },
      "execution_count": null,
      "outputs": []
    },
    {
      "cell_type": "code",
      "source": [
        "model.add(tf.keras.layers.BatchNormalization())"
      ],
      "metadata": {
        "id": "r3mR8tljHdIi"
      },
      "execution_count": null,
      "outputs": []
    },
    {
      "cell_type": "code",
      "source": [
        "model.add(tf.keras.layers.Dense(100,activation='relu'))\n",
        "model.add(tf.keras.layers.BatchNormalization())"
      ],
      "metadata": {
        "id": "B5nMHaz6H0_f"
      },
      "execution_count": null,
      "outputs": []
    },
    {
      "cell_type": "code",
      "source": [
        "model.add(tf.keras.layers.Dense(30,activation='relu'))\n",
        "model.add(tf.keras.layers.BatchNormalization())"
      ],
      "metadata": {
        "id": "hnO1tJXzH7eS"
      },
      "execution_count": null,
      "outputs": []
    },
    {
      "cell_type": "code",
      "source": [
        "model.add(tf.keras.layers.Dense(60,activation='relu'))\n",
        "model.add(tf.keras.layers.BatchNormalization())"
      ],
      "metadata": {
        "id": "PL5y_8WPIArD"
      },
      "execution_count": null,
      "outputs": []
    },
    {
      "cell_type": "code",
      "source": [
        "model.add(tf.keras.layers.Dense(200,activation='relu'))\n",
        "model.add(tf.keras.layers.BatchNormalization())"
      ],
      "metadata": {
        "id": "-EB7vFnwIEQV"
      },
      "execution_count": null,
      "outputs": []
    },
    {
      "cell_type": "code",
      "source": [
        "model.add(tf.keras.layers.Dense(200,activation='softmax'))"
      ],
      "metadata": {
        "id": "zQsY-SDSIG9p"
      },
      "execution_count": null,
      "outputs": []
    },
    {
      "cell_type": "code",
      "source": [
        "model.summary()"
      ],
      "metadata": {
        "colab": {
          "base_uri": "https://localhost:8080/"
        },
        "id": "n-8AmQ2UIJMC",
        "outputId": "09a55eab-b26e-4dac-8ec2-d01c16d72849"
      },
      "execution_count": null,
      "outputs": [
        {
          "output_type": "stream",
          "name": "stdout",
          "text": [
            "Model: \"sequential_4\"\n",
            "_________________________________________________________________\n",
            " Layer (type)                Output Shape              Param #   \n",
            "=================================================================\n",
            " reshape_3 (Reshape)         (None, 784)               0         \n",
            "                                                                 \n",
            " batch_normalization_9 (Batc  (None, 784)              3136      \n",
            " hNormalization)                                                 \n",
            "                                                                 \n",
            " reshape_5 (Reshape)         (None, 784)               0         \n",
            "                                                                 \n",
            " batch_normalization_10 (Bat  (None, 784)              3136      \n",
            " chNormalization)                                                \n",
            "                                                                 \n",
            " dense_14 (Dense)            (None, 100)               78500     \n",
            "                                                                 \n",
            " dense_15 (Dense)            (None, 100)               10100     \n",
            "                                                                 \n",
            " batch_normalization_11 (Bat  (None, 100)              400       \n",
            " chNormalization)                                                \n",
            "                                                                 \n",
            " dense_16 (Dense)            (None, 30)                3030      \n",
            "                                                                 \n",
            " batch_normalization_12 (Bat  (None, 30)               120       \n",
            " chNormalization)                                                \n",
            "                                                                 \n",
            " dense_17 (Dense)            (None, 60)                1860      \n",
            "                                                                 \n",
            " batch_normalization_13 (Bat  (None, 60)               240       \n",
            " chNormalization)                                                \n",
            "                                                                 \n",
            " dense_18 (Dense)            (None, 200)               12200     \n",
            "                                                                 \n",
            " batch_normalization_14 (Bat  (None, 200)              800       \n",
            " chNormalization)                                                \n",
            "                                                                 \n",
            " dense_19 (Dense)            (None, 200)               40200     \n",
            "                                                                 \n",
            " dense_20 (Dense)            (None, 200)               40200     \n",
            "                                                                 \n",
            "=================================================================\n",
            "Total params: 193,922\n",
            "Trainable params: 190,006\n",
            "Non-trainable params: 3,916\n",
            "_________________________________________________________________\n"
          ]
        }
      ]
    },
    {
      "cell_type": "code",
      "source": [
        "sgd_optimizer=tf.keras.optimizers.SGD(lr=0.01)"
      ],
      "metadata": {
        "colab": {
          "base_uri": "https://localhost:8080/"
        },
        "id": "JJZETNzIIOlE",
        "outputId": "403653f8-c7fa-4b24-eca3-e736074abef7"
      },
      "execution_count": null,
      "outputs": [
        {
          "output_type": "stream",
          "name": "stderr",
          "text": [
            "/usr/local/lib/python3.7/dist-packages/keras/optimizers/optimizer_v2/gradient_descent.py:108: UserWarning: The `lr` argument is deprecated, use `learning_rate` instead.\n",
            "  super(SGD, self).__init__(name, **kwargs)\n"
          ]
        }
      ]
    },
    {
      "cell_type": "code",
      "source": [
        "model.compile(optimizer=sgd_optimizer,loss='categorical_crossentropy',metrics=['accuracy'])"
      ],
      "metadata": {
        "id": "nL1ALMqoIZyY"
      },
      "execution_count": null,
      "outputs": []
    },
    {
      "cell_type": "code",
      "source": [
        "model.summary()"
      ],
      "metadata": {
        "colab": {
          "base_uri": "https://localhost:8080/"
        },
        "id": "UHkmTlL-I1vx",
        "outputId": "5c6da2a4-26b6-45a1-e0a3-bf66b0a897c6"
      },
      "execution_count": null,
      "outputs": [
        {
          "output_type": "stream",
          "name": "stdout",
          "text": [
            "Model: \"sequential_4\"\n",
            "_________________________________________________________________\n",
            " Layer (type)                Output Shape              Param #   \n",
            "=================================================================\n",
            " reshape_3 (Reshape)         (None, 784)               0         \n",
            "                                                                 \n",
            " batch_normalization_9 (Batc  (None, 784)              3136      \n",
            " hNormalization)                                                 \n",
            "                                                                 \n",
            " reshape_5 (Reshape)         (None, 784)               0         \n",
            "                                                                 \n",
            " batch_normalization_10 (Bat  (None, 784)              3136      \n",
            " chNormalization)                                                \n",
            "                                                                 \n",
            " dense_14 (Dense)            (None, 100)               78500     \n",
            "                                                                 \n",
            " dense_15 (Dense)            (None, 100)               10100     \n",
            "                                                                 \n",
            " batch_normalization_11 (Bat  (None, 100)              400       \n",
            " chNormalization)                                                \n",
            "                                                                 \n",
            " dense_16 (Dense)            (None, 30)                3030      \n",
            "                                                                 \n",
            " batch_normalization_12 (Bat  (None, 30)               120       \n",
            " chNormalization)                                                \n",
            "                                                                 \n",
            " dense_17 (Dense)            (None, 60)                1860      \n",
            "                                                                 \n",
            " batch_normalization_13 (Bat  (None, 60)               240       \n",
            " chNormalization)                                                \n",
            "                                                                 \n",
            " dense_18 (Dense)            (None, 200)               12200     \n",
            "                                                                 \n",
            " batch_normalization_14 (Bat  (None, 200)              800       \n",
            " chNormalization)                                                \n",
            "                                                                 \n",
            " dense_19 (Dense)            (None, 200)               40200     \n",
            "                                                                 \n",
            " dense_20 (Dense)            (None, 200)               40200     \n",
            "                                                                 \n",
            "=================================================================\n",
            "Total params: 193,922\n",
            "Trainable params: 190,006\n",
            "Non-trainable params: 3,916\n",
            "_________________________________________________________________\n"
          ]
        }
      ]
    },
    {
      "cell_type": "code",
      "source": [],
      "metadata": {
        "id": "A7rx2hL5JCof"
      },
      "execution_count": null,
      "outputs": []
    }
  ]
}