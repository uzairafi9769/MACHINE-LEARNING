{
  "nbformat": 4,
  "nbformat_minor": 0,
  "metadata": {
    "colab": {
      "provenance": []
    },
    "kernelspec": {
      "name": "python3",
      "display_name": "Python 3"
    },
    "language_info": {
      "name": "python"
    }
  },
  "cells": [
    {
      "cell_type": "code",
      "execution_count": 1,
      "metadata": {
        "id": "zQqdYW1N-mhe"
      },
      "outputs": [],
      "source": [
        "import tensorflow as tf"
      ]
    },
    {
      "cell_type": "code",
      "source": [
        "(xtrain,ytrain),(xtest,ytest)=tf.keras.datasets.mnist.load_data()"
      ],
      "metadata": {
        "id": "3I4bSn66AJKS",
        "colab": {
          "base_uri": "https://localhost:8080/"
        },
        "outputId": "0bfe89a9-e3ef-445a-e484-5ea283dd8c14"
      },
      "execution_count": 2,
      "outputs": [
        {
          "output_type": "stream",
          "name": "stdout",
          "text": [
            "Downloading data from https://storage.googleapis.com/tensorflow/tf-keras-datasets/mnist.npz\n",
            "11490434/11490434 [==============================] - 0s 0us/step\n"
          ]
        }
      ]
    },
    {
      "cell_type": "code",
      "source": [
        "(xtrain,xtest)=xtrain/255,xtest/255"
      ],
      "metadata": {
        "id": "-eX7NQFyAVxg"
      },
      "execution_count": 3,
      "outputs": []
    },
    {
      "cell_type": "code",
      "source": [
        "model=tf.keras.models.Sequential([\n",
        "    tf.keras.layers.Flatten(input_shape=(28,28)),\n",
        "    tf.keras.layers.Dense(10,activation='relu'),\n",
        "    tf.keras.layers.Dropout(0.2),\n",
        "    tf.keras.layers.Dense(10)\n",
        "])"
      ],
      "metadata": {
        "id": "hGPXaCzcAdvH"
      },
      "execution_count": 8,
      "outputs": []
    },
    {
      "cell_type": "code",
      "source": [
        "predictions=model(xtrain[:1]).numpy()"
      ],
      "metadata": {
        "id": "sVDY1PWuBspd"
      },
      "execution_count": 9,
      "outputs": []
    },
    {
      "cell_type": "code",
      "source": [
        "predictions"
      ],
      "metadata": {
        "id": "aFq9jEY-Bzv1",
        "colab": {
          "base_uri": "https://localhost:8080/"
        },
        "outputId": "3de2f8b1-c805-47a8-9fa9-4c7c6f2c0ddd"
      },
      "execution_count": 10,
      "outputs": [
        {
          "output_type": "execute_result",
          "data": {
            "text/plain": [
              "array([[ 0.03154703, -0.19536524,  0.2775721 ,  0.52865356,  0.03538334,\n",
              "        -0.33708382,  0.19202292, -0.5208905 , -0.5710312 ,  0.05630643]],\n",
              "      dtype=float32)"
            ]
          },
          "metadata": {},
          "execution_count": 10
        }
      ]
    },
    {
      "cell_type": "code",
      "source": [
        "fn=tf.keras.losses.SparseCategoricalCrossentropy(from_logits=True)"
      ],
      "metadata": {
        "id": "ct-iBiKIB1IX"
      },
      "execution_count": 11,
      "outputs": []
    },
    {
      "cell_type": "code",
      "source": [
        "tf.nn.softmax(predictions).numpy()"
      ],
      "metadata": {
        "id": "WFv_eUnmB-m5",
        "colab": {
          "base_uri": "https://localhost:8080/"
        },
        "outputId": "9ac4fdfb-4ae3-41fb-f0eb-02cd10e4a5aa"
      },
      "execution_count": 12,
      "outputs": [
        {
          "output_type": "execute_result",
          "data": {
            "text/plain": [
              "array([[0.10269591, 0.08184768, 0.13134106, 0.16882773, 0.10309064,\n",
              "        0.07103278, 0.12057213, 0.05910614, 0.05621559, 0.10527033]],\n",
              "      dtype=float32)"
            ]
          },
          "metadata": {},
          "execution_count": 12
        }
      ]
    },
    {
      "cell_type": "code",
      "source": [
        "fn(ytrain[:1],predictions).numpy()"
      ],
      "metadata": {
        "id": "7Utg-mLFCjXe",
        "colab": {
          "base_uri": "https://localhost:8080/"
        },
        "outputId": "9b226cf3-503f-4285-e4f7-62e988fadec1"
      },
      "execution_count": 13,
      "outputs": [
        {
          "output_type": "execute_result",
          "data": {
            "text/plain": [
              "2.6446137"
            ]
          },
          "metadata": {},
          "execution_count": 13
        }
      ]
    },
    {
      "cell_type": "code",
      "source": [
        "model.compile(optimizer='sgd',\n",
        "              loss=fn,\n",
        "              metrics=['accuracy'])"
      ],
      "metadata": {
        "id": "VksL13yeCv8W"
      },
      "execution_count": 15,
      "outputs": []
    },
    {
      "cell_type": "code",
      "source": [
        "model.fit(xtrain,ytrain,epochs=20)"
      ],
      "metadata": {
        "id": "6XVB6f5UC2wh",
        "colab": {
          "base_uri": "https://localhost:8080/"
        },
        "outputId": "d49ad910-1779-4304-ebfd-2141b0e38a11"
      },
      "execution_count": 16,
      "outputs": [
        {
          "output_type": "stream",
          "name": "stdout",
          "text": [
            "Epoch 1/20\n",
            "1875/1875 [==============================] - 5s 2ms/step - loss: 1.2384 - accuracy: 0.5955\n",
            "Epoch 2/20\n",
            "1875/1875 [==============================] - 4s 2ms/step - loss: 0.7993 - accuracy: 0.7383\n",
            "Epoch 3/20\n",
            "1875/1875 [==============================] - 4s 2ms/step - loss: 0.7282 - accuracy: 0.7621\n",
            "Epoch 4/20\n",
            "1875/1875 [==============================] - 4s 2ms/step - loss: 0.6889 - accuracy: 0.7723\n",
            "Epoch 5/20\n",
            "1875/1875 [==============================] - 5s 2ms/step - loss: 0.6628 - accuracy: 0.7806\n",
            "Epoch 6/20\n",
            "1875/1875 [==============================] - 4s 2ms/step - loss: 0.6519 - accuracy: 0.7849\n",
            "Epoch 7/20\n",
            "1875/1875 [==============================] - 4s 2ms/step - loss: 0.6400 - accuracy: 0.7883\n",
            "Epoch 8/20\n",
            "1875/1875 [==============================] - 4s 2ms/step - loss: 0.6308 - accuracy: 0.7911\n",
            "Epoch 9/20\n",
            "1875/1875 [==============================] - 4s 2ms/step - loss: 0.6225 - accuracy: 0.7942\n",
            "Epoch 10/20\n",
            "1875/1875 [==============================] - 4s 2ms/step - loss: 0.6097 - accuracy: 0.7982\n",
            "Epoch 11/20\n",
            "1875/1875 [==============================] - 4s 2ms/step - loss: 0.6059 - accuracy: 0.7977\n",
            "Epoch 12/20\n",
            "1875/1875 [==============================] - 4s 2ms/step - loss: 0.6041 - accuracy: 0.7987\n",
            "Epoch 13/20\n",
            "1875/1875 [==============================] - 4s 2ms/step - loss: 0.5998 - accuracy: 0.8002\n",
            "Epoch 14/20\n",
            "1875/1875 [==============================] - 4s 2ms/step - loss: 0.5926 - accuracy: 0.8022\n",
            "Epoch 15/20\n",
            "1875/1875 [==============================] - 4s 2ms/step - loss: 0.5924 - accuracy: 0.8020\n",
            "Epoch 16/20\n",
            "1875/1875 [==============================] - 4s 2ms/step - loss: 0.5888 - accuracy: 0.8036\n",
            "Epoch 17/20\n",
            "1875/1875 [==============================] - 4s 2ms/step - loss: 0.5873 - accuracy: 0.8042\n",
            "Epoch 18/20\n",
            "1875/1875 [==============================] - 4s 2ms/step - loss: 0.5861 - accuracy: 0.8023\n",
            "Epoch 19/20\n",
            "1875/1875 [==============================] - 4s 2ms/step - loss: 0.5789 - accuracy: 0.8052\n",
            "Epoch 20/20\n",
            "1875/1875 [==============================] - 4s 2ms/step - loss: 0.5781 - accuracy: 0.8062\n"
          ]
        },
        {
          "output_type": "execute_result",
          "data": {
            "text/plain": [
              "<keras.callbacks.History at 0x7fa8b1f5e350>"
            ]
          },
          "metadata": {},
          "execution_count": 16
        }
      ]
    },
    {
      "cell_type": "code",
      "source": [
        "model.evaluate(xtest,ytest,verbose=20)"
      ],
      "metadata": {
        "id": "y_7Qnm69DGJ8",
        "colab": {
          "base_uri": "https://localhost:8080/"
        },
        "outputId": "3fe2520a-7803-4140-9b1c-e32b292e4144"
      },
      "execution_count": 17,
      "outputs": [
        {
          "output_type": "execute_result",
          "data": {
            "text/plain": [
              "[0.3373351991176605, 0.9059000015258789]"
            ]
          },
          "metadata": {},
          "execution_count": 17
        }
      ]
    },
    {
      "cell_type": "code",
      "source": [],
      "metadata": {
        "id": "EqyZe378DN1D"
      },
      "execution_count": null,
      "outputs": []
    }
  ]
}